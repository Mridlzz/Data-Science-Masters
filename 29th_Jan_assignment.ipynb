{
 "cells": [
  {
   "cell_type": "markdown",
   "id": "e96efee0-8e23-4df6-b860-2102bfd1109e",
   "metadata": {
    "tags": []
   },
   "source": [
    "### 1. Who developed Python Programming language?\n",
    "###    A: Guido Van Rossum in 1991"
   ]
  },
  {
   "cell_type": "markdown",
   "id": "d9e46149-93f7-43a7-97e9-ebb3c73ab5dc",
   "metadata": {},
   "source": [
    "### 2.Which types of programming does python support?\n",
    "###  A: Object oriented, Stuctured and functional programming."
   ]
  },
  {
   "cell_type": "markdown",
   "id": "17c7ab0a-f189-4fa6-a7e7-c278f4a2c33e",
   "metadata": {},
   "source": [
    "### 3. Is Python case sensitive when dealing with identifiers?\n",
    "### A: Yes!!"
   ]
  },
  {
   "cell_type": "markdown",
   "id": "14c5d4da-0ab3-403c-aa88-a8cba1dd44e2",
   "metadata": {},
   "source": [
    "### 4. What is the correct extention of the python file?\n",
    "### A: .Py"
   ]
  },
  {
   "cell_type": "markdown",
   "id": "6a5aa82c-86eb-475a-891a-2ce0086cc7cf",
   "metadata": {},
   "source": [
    "### 5. Is Pythone code compiled or interpreted?\n",
    "### A: Python is an interpreted language."
   ]
  },
  {
   "cell_type": "markdown",
   "id": "885ef33b-4d3b-4636-a53c-c199944df33a",
   "metadata": {},
   "source": [
    "### 6. Name a few blocks of code used to define in python language?\n",
    "### A: Indentation is used to define a block of code in python.\n",
    "    \n",
    "### if name == 'Alex':\n",
    "     print('Correct Name!!')\n",
    "### else:\n",
    "\t print('InCorrect Name:(')\n",
    "### print('HI')"
   ]
  },
  {
   "cell_type": "markdown",
   "id": "cc744591-e9ca-49b5-b87a-add6b742eb7b",
   "metadata": {},
   "source": [
    "### 7. State a character used to give single-line comments in python?-\n",
    "### A: We can write a single-line comment by adding a single # character before any statement or line of code."
   ]
  },
  {
   "cell_type": "markdown",
   "id": "bdba3f45-aa8f-4eaf-a177-7fb2a60535cf",
   "metadata": {},
   "source": [
    "### 8. Mention functions which can help us to find the version of python that we are currently working on?\n",
    "### A: The function sys. version can help us to find the version of python that we are currently working on. It also contains information on the build number and compiler used. For example, 3.5."
   ]
  },
  {
   "cell_type": "markdown",
   "id": "0070dcba-3601-45d1-afde-8b5082ad5a41",
   "metadata": {},
   "source": [
    "### 9. Python supports the creation of anonymous functions at runtime, using a construct called-----\n",
    "### A: Python supports the creation of anonymous functions (i.e. functions that are not bound to a name) at runtime, using a construct called lambda. Lambda functions are restricted to a single expression. They can be used wherever normal functions can be used."
   ]
  },
  {
   "cell_type": "markdown",
   "id": "94eb8621-f307-4e8f-80ed-8d44fd085758",
   "metadata": {},
   "source": [
    "### 10. What does PIP stand for python?\n",
    "### A: PIP stands for Preferred Installer Program, helps you to install libraries and dependencies, that doesn’t come with the standard package of Python. So, PIP is essentially a package manager for Python."
   ]
  },
  {
   "cell_type": "markdown",
   "id": "bb4e435d-9c10-4728-8ff1-efb8fca957bf",
   "metadata": {},
   "source": [
    "### 11. Mention a few built-in function in python?\n",
    "### A: print( ) function, type( ) function, input( ) function, len( ) function, sum( ) function"
   ]
  },
  {
   "cell_type": "markdown",
   "id": "027608ff-d3ab-4af1-b191-305c68942bbd",
   "metadata": {},
   "source": [
    "### 12. What is the maximum possible length of an identifier in python?\n",
    "### A: In Python, the highest possible length of an identifier is 79 characters."
   ]
  },
  {
   "cell_type": "markdown",
   "id": "479ec6d3-875d-433d-9623-547baaefdd5c",
   "metadata": {},
   "source": [
    "### 13. What are the benifits of using python?\n",
    "### A: Python is a high-level, interpreted, and general-purpose dynamic programming language that focuses on code readability. It generally has small programs when compared to Java and C. It was founded in 1991 by developer Guido Van Rossum. Python ranks among the most popular and fastest-growing languages in the world. Python is a powerful, flexible, and easy-to-use language. In addition, the python community is very active. It is used in many organizations as it supports multiple programming paradigms. It also performs automatic memory management.\n",
    "\n",
    "###    Advantages: \n",
    "*       Presence of third-party modules \n",
    "*       Extensive support libraries(NumPy for numerical calculations, Pandas for data analytics, etc.) \n",
    "*       Open source and large active community base \n",
    "*       Versatile, Easy to read, learn and write\n",
    "*       User-friendly data structures \n",
    "*       High-level language \n",
    "*       Dynamically typed language(No need to mention data type based on the value assigned, it takes data type) \n",
    "*       Object-Oriented and Procedural  Programming language\n",
    "*       Portable and Interactive\n",
    "*       Ideal for prototypes – provide more functionality with less coding\n",
    "*       Highly Efficient(Python’s clean object-oriented design provides enhanced process control, and the language is equipped  with excellent text processing and integration capabilities, as well as its own unit testing framework, which makes it         more efficient.)\n",
    "*       Internet of Things(IoT) Opportunities\n",
    "*       Interpreted Language\n",
    "*       Portable across Operating systems"
   ]
  },
  {
   "cell_type": "markdown",
   "id": "15d2ffdb-f321-43ae-a722-6b2281a9725e",
   "metadata": {},
   "source": [
    "### 14. How is memory managed in python?\n",
    "### A: Memory in Python is managed by Python private heap space. All Python objects and data structures are located in a private heap. This private heap is taken care of by Python Interpreter itself, and a programmer doesn’t have access to this private heap. Python memory manager takes care of the allocation of Python private heap space. Memory for Python private heap space is made available by Python’s in-built garbage collector, which recycles and frees up all the unused memory. The allocation of heap space for Python objects and other internal buffers is performed on demand by the Python memory manager through the Python/C API functions listed in this document. To avoid memory corruption, extension writers should never try to operate on Python objects with the functions exported by the C library: malloc(), calloc(), realloc() and free()."
   ]
  },
  {
   "cell_type": "markdown",
   "id": "d9af5392-719e-42ca-9d40-cb59ab606b19",
   "metadata": {},
   "source": [
    "### 15. How to install python on windows and set path variables?\n",
    "### A: First, we need to locate where the python is being installed after downloading it. Press WINDOWS key and search for “Python”, you will get something like this:Click on open file location and you will be in a location where Python is installed, Copy the location path from the top by clicking over it. Now, we have to add the above-copied path as a variable so that windows can recognize. Search for “Environmental Variables”, you will see something like this: Click on that( Now click the “Environmental Variables” button."
   ]
  },
  {
   "cell_type": "markdown",
   "id": "5eaaa712-c676-4eb3-9942-e657c16909dc",
   "metadata": {},
   "source": [
    "### 16. Is indentation required in python?\n",
    "### A: Indentation is important to Python because it's how you determine scope. Scope is how Python knows what code belongs to what part of the program."
   ]
  },
  {
   "cell_type": "code",
   "execution_count": null,
   "id": "56653118-752d-4bc1-bcb6-4609b53ba592",
   "metadata": {},
   "outputs": [],
   "source": []
  }
 ],
 "metadata": {
  "kernelspec": {
   "display_name": "Python 3 (ipykernel)",
   "language": "python",
   "name": "python3"
  },
  "language_info": {
   "codemirror_mode": {
    "name": "ipython",
    "version": 3
   },
   "file_extension": ".py",
   "mimetype": "text/x-python",
   "name": "python",
   "nbconvert_exporter": "python",
   "pygments_lexer": "ipython3",
   "version": "3.10.8"
  }
 },
 "nbformat": 4,
 "nbformat_minor": 5
}
