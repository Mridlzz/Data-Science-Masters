{
 "cells": [
  {
   "cell_type": "markdown",
   "id": "9f7bed2c-3811-490b-8248-d101abd2b7ce",
   "metadata": {},
   "source": [
    "### Q1. What are the characteristics of the tuples? Is tuple immutable?"
   ]
  },
  {
   "cell_type": "markdown",
   "id": "6eda6bee-44c9-4f72-be6f-c89440629d53",
   "metadata": {},
   "source": [
    "### A: The characteristics of a Python tuple are:\n",
    "* Tuples are ordered, indexed collections of data. Similar to string indices, the first value in the tuple will have the index [0], the second value [1], and so on. \n",
    "* Tuples can store duplicate values.\n",
    "* Once data is assigned to a tuple, the values cannot be changed.\n",
    "* Tuples allow you to store several data items in one variable. You can choose to store only one kind of data in a tuple or mix it up as needed.\n",
    "\n",
    "### Yes! Tuple is immutable\n"
   ]
  },
  {
   "cell_type": "markdown",
   "id": "c33fa0dc-d2d1-4223-bb9a-3ac84aeb438c",
   "metadata": {},
   "source": [
    "### Q2. What are the two tuple methods in python? Give an example of each method. Give a reason why\n",
    "### tuples have only two in-built methods as compared to Lists."
   ]
  },
  {
   "cell_type": "markdown",
   "id": "4733aa50-da87-4fce-be1d-e18715a2542a",
   "metadata": {},
   "source": [
    "### A:  There are only two tuple methods count() and index() that a tuple object can call.\n",
    "###     Python Tuple count() Method\n",
    "*       Python count() method counts the occurrence of an element in the tuple. It returns the occurrence of the the element passed during call.\n",
    "        It required a parameter which is to be counted. It returns error if the parameter is missing.\n",
    "###     Example:\n",
    "###     # Python tuple count() Method  "
   ]
  },
  {
   "cell_type": "code",
   "execution_count": 1,
   "id": "e6f75e60-2682-49d4-97a3-8d09a7d94fd9",
   "metadata": {},
   "outputs": [
    {
     "name": "stdout",
     "output_type": "stream",
     "text": [
      "(2, 4, 6, 8, 10)\n",
      "Occurences: 1\n",
      "(2, 4, 6, 8, 10, 2)\n",
      "Occurences: 2\n"
     ]
    }
   ],
   "source": [
    "# Creating a dictionary  \n",
    "data = (2,4,6,8,10) # Tuple of even numbers  \n",
    "print(data)  \n",
    "# Calling Method  \n",
    "count = data.count(2)  \n",
    "print(\"Occurences:\",count)  \n",
    "data = (2,4,6,8,10,2)  \n",
    "print(data)  \n",
    "count = data.count(2)  \n",
    "print(\"Occurences:\",count)"
   ]
  },
  {
   "cell_type": "markdown",
   "id": "6fbc8ac5-3072-439a-ba40-402e23114c00",
   "metadata": {},
   "source": [
    "### Python Tuple Index() Method\n",
    "*   index() method in Python Tuple can be used to find the first occurrence of a given element in the given tuple.\n",
    "    The index() method by default, returns an integer, denoting the first occurrence of the given element in that tuple."
   ]
  },
  {
   "cell_type": "markdown",
   "id": "01120dcf-8fb5-406c-af88-dcf0ab4debbe",
   "metadata": {},
   "source": [
    "### Example:"
   ]
  },
  {
   "cell_type": "code",
   "execution_count": 2,
   "id": "a980f0fc-a558-4b2d-8a7a-31a11af4a219",
   "metadata": {},
   "outputs": [
    {
     "name": "stdout",
     "output_type": "stream",
     "text": [
      "3\n"
     ]
    }
   ],
   "source": [
    "thistuple = (1, 3, 7, 8, 7, 5, 4, 6, 8, 5)\n",
    "\n",
    "x = thistuple.index(8)\n",
    "\n",
    "print(x)"
   ]
  },
  {
   "cell_type": "markdown",
   "id": "9ee1ae18-3f5b-4d35-b4c0-da01b0b3f875",
   "metadata": {},
   "source": [
    "### Q3. Which collection datatypes in python do not allow duplicate items? Write a code using a set to remove duplicates from the given list.\n",
    "###    List = [1, 1, 1, 2, 1, 3, 1, 4, 2, 1, 2, 2, 2, 3, 2, 4, 3, 1, 3, 2, 3, 3, 3, 4, 4, 1, 4, 2, 4, 3, 4, 4]"
   ]
  },
  {
   "cell_type": "markdown",
   "id": "eb632319-9836-4337-8a24-9ebd4ba38ead",
   "metadata": {},
   "source": [
    "### A: Set is a collection which is unordered and unindexed. No duplicate members. Use curly brackets {} for sets."
   ]
  },
  {
   "cell_type": "code",
   "execution_count": 6,
   "id": "5d20cfd7-638b-4a7c-a027-0dbfd9382480",
   "metadata": {},
   "outputs": [
    {
     "name": "stdout",
     "output_type": "stream",
     "text": [
      "Original List [1, 1, 1, 2, 1, 3, 1, 4, 2, 1, 2, 2, 2, 3, 2, 4, 3, 1, 3, 2, 3, 3, 3, 4, 4, 1, 4, 2, 4, 3, 4, 4]\n",
      "List after removing duplicate elements:  [1, 2, 3, 4]\n"
     ]
    }
   ],
   "source": [
    "# Removing dublicate from the given list\n",
    "L1=[1, 1, 1, 2, 1, 3, 1, 4, 2, 1, 2, 2, 2, 3, 2, 4, 3, 1, 3, 2, 3, 3, 3, 4, 4, 1, 4, 2, 4, 3, 4, 4]\n",
    "print(\"Original List\",L1)\n",
    "S1=[*set(L1)]\n",
    "print(\"List after removing duplicate elements: \", S1)\n"
   ]
  },
  {
   "cell_type": "markdown",
   "id": "b0f94c25-1566-453f-9646-f073a7753416",
   "metadata": {},
   "source": [
    "### Q4. Explain the difference between the union() and update() methods for a set. Give an example of each method."
   ]
  },
  {
   "cell_type": "markdown",
   "id": "c2296cf4-8c1d-4006-aab3-573b00c814d3",
   "metadata": {},
   "source": [
    "### A: union Method :\n",
    "This method is used to return the union of a set and the set of elements from one or more iterable like string, list, set. This method takes arbitrary number of iterable objects as argument, which means one or more iterable can be passed. If iterable other than set is passed, it first converts the iterable object to set object and then perform the union operation. It returns a newly created set, which contains all the elements ( distinct ) present in all the iterables.\n",
    "\n",
    "Syntax : < Set Object >.union( *<iterable object> ) : < Set Object >"
   ]
  },
  {
   "cell_type": "markdown",
   "id": "786bd56a-3c60-41a6-a8ac-3a30a23dbe08",
   "metadata": {},
   "source": [
    "### Example:"
   ]
  },
  {
   "cell_type": "code",
   "execution_count": 1,
   "id": "dfba7cd8-b2bf-44fb-a84d-5bdf8857cf17",
   "metadata": {},
   "outputs": [
    {
     "name": "stdout",
     "output_type": "stream",
     "text": [
      "A :  {1, 2, 3, 4, 5}\n",
      "B :  {4, 5, 6, 7, 8, 9}\n",
      "A Union B :  {1, 2, 3, 4, 5, 6, 7, 8, 9}\n",
      "A :  {1, 2, 3, 4, 5}\n",
      "B :  {4, 5, 6, 7, 8, 9}\n",
      "L :  [11, 12, 13, 14, 15]\n",
      "A Union B Union L :  {1, 2, 3, 4, 5, 6, 7, 8, 9, 11, 12, 13, 14, 15}\n"
     ]
    }
   ],
   "source": [
    "# Python Set Union\n",
    "# create set object and assign it to variable A\n",
    "A = {1,2,3,4,5}\n",
    "\n",
    "# create set object and assign it to variable B\n",
    "B = {4,5,6,7,8,9}\n",
    "\n",
    "# call union method to get union of set A and B and assign it to variable S\n",
    "S = A.union(B)\n",
    "\n",
    "# print all the values of set A, B and S\n",
    "print('A : ',A)\n",
    "print('B : ',B)\n",
    "print('A Union B : ',S)\n",
    "\n",
    "# create list object and assign it to variable L\n",
    "L = [11,12,13,14,15]\n",
    "\n",
    "# call union method to get union of set A, B and list L and assign it to variable S\n",
    "S = A.union(B,L)\n",
    "\n",
    "# print all the values of set A, B, S and list L\n",
    "print('A : ',A)\n",
    "print('B : ',B)\n",
    "print('L : ',L)\n",
    "print('A Union B Union L : ',S)"
   ]
  },
  {
   "cell_type": "markdown",
   "id": "947751dc-2779-4888-ad81-1af75789f8bc",
   "metadata": {},
   "source": [
    "### update Method :\n",
    "This method is used to return the union of a set and the set of elements from one or more iterable like string, list, set. It is very similar to union() method, with difference is that where union() method create and return a new set, containing all the elements ( distinct ) present in all the iterables, update() method updates the set on which this method is called with all the distinct elements present in all the iterables."
   ]
  },
  {
   "cell_type": "markdown",
   "id": "ccd5e77b-ee4e-4e2b-baeb-2dcfea4c7459",
   "metadata": {},
   "source": [
    "### Example:"
   ]
  },
  {
   "cell_type": "code",
   "execution_count": 2,
   "id": "ae3a992f-8a15-4806-aefb-c5daa2bd721c",
   "metadata": {},
   "outputs": [
    {
     "name": "stdout",
     "output_type": "stream",
     "text": [
      "A Union B :  {1, 2, 3, 4, 5, 6, 7, 8, 9}\n",
      "A Union B Union L :  {1, 2, 3, 4, 5, 6, 7, 8, 9, 11, 12, 13, 14, 15}\n"
     ]
    }
   ],
   "source": [
    "# Python Set Union\n",
    "# create set object and assign it to variable A\n",
    "A = {1,2,3,4,5}\n",
    "\n",
    "# create set object and assign it to variable B\n",
    "B = {4,5,6,7,8,9}\n",
    "\n",
    "# call update method to get union of set A and B by updating set A\n",
    "A.update(B)\n",
    "\n",
    "# print all the values of set A\n",
    "print('A Union B : ',A)\n",
    "\n",
    "# create list object and assign it to variable L\n",
    "L = [11,12,13,14,15]\n",
    "\n",
    "# call update method to get union of set A, B and list L by updating set A\n",
    "A.update(B,L)\n",
    "\n",
    "# print all the values of set A\n",
    "print('A Union B Union L : ',A)"
   ]
  },
  {
   "cell_type": "markdown",
   "id": "cbff6f6a-6a44-4d13-bcd1-93f937229793",
   "metadata": {},
   "source": [
    "### Q5. What is a dictionary? Give an example. Also, state whether a dictionary is ordered or unordered."
   ]
  },
  {
   "cell_type": "markdown",
   "id": "5a99f25c-4eca-4e64-ba90-fe2ffe904bb7",
   "metadata": {},
   "source": [
    "### A:  A dictionary is a kind of data structure that stores items in key-value pairs. A key is a unique identifier for an item, and a value is the data associated with that key. Dictionaries often store information such as words and definitions, but they can be used for much more. Dictionaries are mutable in Python, which means they can be changed after they are created. They are also unordered, indicating the items in a dictionary are not stored in any particular order."
   ]
  },
  {
   "cell_type": "markdown",
   "id": "e4160e5a-7734-494a-8357-a5762820ba3b",
   "metadata": {},
   "source": [
    "### Dictionaries are created using curly braces {}. The key is on the left side of the colon (:) and the value is on the right. A comma separates each key-value pair. Creating a Python dictionary is straightforward. Remember to use curly braces {} and separate each key-value pair with a comma.\n",
    "\n",
    "You will use the built-in dictionary data type to create a Python dictionary. This type stores all kinds of data, from integers to strings to lists. The dictionary data type is similar to a list but uses keys instead of indexes to look up values.\n",
    "\n",
    "You use the dict() function in Python to create a dictionary. This function takes two arguments:\n",
    "\n",
    "The first argument is a list of keys.\n",
    "\n",
    "The second argument is a list of values.\n",
    "\n",
    "Check out the example of how to create a dictionary using the dict() function:"
   ]
  },
  {
   "cell_type": "code",
   "execution_count": 4,
   "id": "8b94213b-1095-4346-b401-9a7b99008894",
   "metadata": {},
   "outputs": [],
   "source": [
    "# empty dictionary\n",
    "my_dict = {}\n",
    "# dictionary with integer keys\n",
    "my_dict = {1: 'apple', 2: 'ball'}\n",
    "# dictionary with mixed keys\n",
    "my_dict = {'name': 'John', 1: [2, 4, 3]}\n",
    "# using dict()\n",
    "my_dict = dict({1:'apple', 2:'ball'})\n",
    "# from sequence having each item as a pair\n",
    "my_dict = dict([(1,'apple'), (2,'ball')])"
   ]
  },
  {
   "cell_type": "markdown",
   "id": "2fe29fff-27ba-4eed-bcb3-5102f2af3064",
   "metadata": {},
   "source": [
    "### Q6. Can we create a nested dictionary? If so, please give an example by creating a simple one-level nested dictionary."
   ]
  },
  {
   "cell_type": "markdown",
   "id": "c6549025-6ae9-44bd-be35-f671ae7e389b",
   "metadata": {},
   "source": [
    "### A: Yes, we can create a nested dictionary in python. A nested dictionary is a dictionary inside a dictionary. It's a collection of dictionaries into one single dictionary."
   ]
  },
  {
   "cell_type": "markdown",
   "id": "4802d8ec-4da1-4922-966f-758fce44bdb8",
   "metadata": {},
   "source": [
    "### Example:"
   ]
  },
  {
   "cell_type": "code",
   "execution_count": 5,
   "id": "f97b8dc7-c787-4fe9-a246-474c945a798e",
   "metadata": {},
   "outputs": [
    {
     "name": "stdout",
     "output_type": "stream",
     "text": [
      "{1: {'name': 'John', 'age': '27', 'sex': 'Male'}, 2: {'name': 'Marie', 'age': '22', 'sex': 'Female'}}\n"
     ]
    }
   ],
   "source": [
    "people = {1: {'name': 'John', 'age': '27', 'sex': 'Male'},\n",
    "          2: {'name': 'Marie', 'age': '22', 'sex': 'Female'}}\n",
    "\n",
    "print(people)"
   ]
  },
  {
   "cell_type": "markdown",
   "id": "e46337dc-f0cd-4068-8fdb-e4599a043a3f",
   "metadata": {},
   "source": [
    "### In the above program, people is a nested dictionary. The internal dictionary 1 and 2 is assigned to people. Here, both the dictionary have key name, age , sex with different values. Now, we print the result of people."
   ]
  },
  {
   "cell_type": "markdown",
   "id": "7c784b85-c77a-4826-af2a-a11ef43adad2",
   "metadata": {},
   "source": [
    "### Q7.Using setdefault() method, create key named topics in the given dictionary and also add the value of the key as this list ['Python', 'Machine Learning’, 'Deep Learning']"
   ]
  },
  {
   "cell_type": "markdown",
   "id": "5949099a-1b5f-4471-aecf-dcdeb58bd56a",
   "metadata": {},
   "source": [
    "### A:"
   ]
  },
  {
   "cell_type": "markdown",
   "id": "77fa7494-46e3-4798-9d9b-b7704f20b847",
   "metadata": {},
   "source": [
    "### Q8. What are the three view objects in dictionaries? Use the three in-built methods in python to display these three view objects for the given dictionary.\n",
    "### dict1 = {'Sport': 'Cricket' , 'Teams': ['India', 'Australia', 'England', 'South Africa', 'Sri Lanka', 'New Zealand']}"
   ]
  },
  {
   "cell_type": "markdown",
   "id": "715d98a2-d605-4466-a4dd-85f3ed0a8588",
   "metadata": {},
   "source": [
    "### A: The main view objects of dictionary in python are keys, values and items. They provide a non-constant view of the dictionary’s entries.Keys holds all the keys of the dictionary, the values objects holds all the values, whereas the items holds the key-value pairs."
   ]
  },
  {
   "cell_type": "code",
   "execution_count": 3,
   "id": "06bc1b6a-e766-4b24-aff4-f2353074c22f",
   "metadata": {},
   "outputs": [
    {
     "name": "stdout",
     "output_type": "stream",
     "text": [
      "dict_keys(['Sport', 'Teams'])\n",
      "<class 'dict_keys'>\n"
     ]
    }
   ],
   "source": [
    "dict1 = {'Sport': 'Cricket' , 'Teams': ['India', 'Australia', 'England', 'South Africa', 'Sri Lanka', 'New Zealand']}\n",
    "k=dict1.keys()\n",
    "print(k)\n",
    "print(type(k))"
   ]
  }
 ],
 "metadata": {
  "kernelspec": {
   "display_name": "Python 3 (ipykernel)",
   "language": "python",
   "name": "python3"
  },
  "language_info": {
   "codemirror_mode": {
    "name": "ipython",
    "version": 3
   },
   "file_extension": ".py",
   "mimetype": "text/x-python",
   "name": "python",
   "nbconvert_exporter": "python",
   "pygments_lexer": "ipython3",
   "version": "3.10.8"
  }
 },
 "nbformat": 4,
 "nbformat_minor": 5
}
