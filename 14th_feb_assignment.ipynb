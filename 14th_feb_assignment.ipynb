{
 "cells": [
  {
   "cell_type": "markdown",
   "id": "93fc54f1-1cb6-47c8-9b40-bf3e392ed4e0",
   "metadata": {},
   "source": [
    "### Q1. what is multithreading in python? why is it used? Name the module used to handle threads in python"
   ]
  },
  {
   "cell_type": "markdown",
   "id": "76ce27ba-1095-4b0f-99e7-873c88740425",
   "metadata": {},
   "source": [
    "### A: Multithreading is defined as the ability of a processor to execute multiple threads concurrently."
   ]
  },
  {
   "cell_type": "markdown",
   "id": "2f3bad5a-6f95-4f5f-b4fe-6b5d85d1e660",
   "metadata": {},
   "source": [
    "### In Python, the threading module provides a very simple and intuitive API for spawning multiple threads in a program. Let us consider a simple example using a threading module: "
   ]
  },
  {
   "cell_type": "code",
   "execution_count": 1,
   "id": "a43c2ec8-fe05-424b-8aef-3401189312b1",
   "metadata": {},
   "outputs": [
    {
     "name": "stdout",
     "output_type": "stream",
     "text": [
      "Square: 100\n",
      "Cube: 1000\n",
      "Done!\n"
     ]
    }
   ],
   "source": [
    "# Python program to illustrate the concept\n",
    "# of threading\n",
    "# importing the threading module\n",
    "import threading\n",
    "\n",
    "\n",
    "def print_cube(num):\n",
    "\t# function to print cube of given num\n",
    "\tprint(\"Cube: {}\" .format(num * num * num))\n",
    "\n",
    "\n",
    "def print_square(num):\n",
    "\t# function to print square of given num\n",
    "\tprint(\"Square: {}\" .format(num * num))\n",
    "\n",
    "\n",
    "if __name__ ==\"__main__\":\n",
    "\t# creating thread\n",
    "\tt1 = threading.Thread(target=print_square, args=(10,))\n",
    "\tt2 = threading.Thread(target=print_cube, args=(10,))\n",
    "\n",
    "\t# starting thread 1\n",
    "\tt1.start()\n",
    "\t# starting thread 2\n",
    "\tt2.start()\n",
    "\n",
    "\t# wait until thread 1 is completely executed\n",
    "\tt1.join()\n",
    "\t# wait until thread 2 is completely executed\n",
    "\tt2.join()\n",
    "\n",
    "\t# both threads completely executed\n",
    "\tprint(\"Done!\")\n"
   ]
  },
  {
   "cell_type": "markdown",
   "id": "17240a81-de46-4ecf-b6be-8dea32aa3e75",
   "metadata": {},
   "source": [
    "### Q2.why threading module used? write the use of the following functions\n",
    "* activeCount()\n",
    "* currentThread()\n",
    "* enumerate()"
   ]
  },
  {
   "cell_type": "markdown",
   "id": "8258bf50-c03d-4ed0-abeb-60ab9bc03c23",
   "metadata": {},
   "source": [
    "### A: The threading module exposes all the methods of the thread module and provides some additional methods −\n",
    "\n",
    "* threading.activeCount() − Returns the number of thread objects that are active.\n",
    "* threading.currentThread() − Returns the number of thread objects in the caller's thread control.\n",
    "* threading.enumerate() − Returns a list of all thread objects that are currently active."
   ]
  },
  {
   "cell_type": "markdown",
   "id": "bd63dd92-84ff-4b4f-b1f8-03c48c1d0901",
   "metadata": {},
   "source": [
    "### Q3.Explain the following functions\n",
    "* run()\n",
    "* start()\n",
    "* join()\n",
    "* isAlive()"
   ]
  },
  {
   "cell_type": "markdown",
   "id": "6d2a7af8-2ce1-48be-a3a2-fc6d71f4c4f9",
   "metadata": {},
   "source": [
    "### A: "
   ]
  },
  {
   "cell_type": "markdown",
   "id": "0aa7a006-7927-4c81-8a29-d5821dd2b7bc",
   "metadata": {},
   "source": [
    "### Q4. Write a python program to create two threads. Thread one must print the list of squares and thread two must print the list of cubes"
   ]
  },
  {
   "cell_type": "markdown",
   "id": "aef40205-bb36-46c7-ac6b-7763876d8595",
   "metadata": {},
   "source": [
    "### A:"
   ]
  },
  {
   "cell_type": "code",
   "execution_count": 2,
   "id": "376d725b-05ac-420f-9f63-8e756ec94871",
   "metadata": {},
   "outputs": [
    {
     "name": "stdout",
     "output_type": "stream",
     "text": [
      "Square: 100\n",
      "Cube: 1000\n",
      "Done!\n"
     ]
    }
   ],
   "source": [
    "# Python program to illustrate the concept\n",
    "# of threading\n",
    "# importing the threading module\n",
    "import threading\n",
    "\n",
    "\n",
    "def print_cube(num):\n",
    "\t# function to print cube of given num\n",
    "\tprint(\"Cube: {}\" .format(num * num * num))\n",
    "\n",
    "\n",
    "def print_square(num):\n",
    "\t# function to print square of given num\n",
    "\tprint(\"Square: {}\" .format(num * num))\n",
    "\n",
    "\n",
    "if __name__ ==\"__main__\":\n",
    "\t# creating thread\n",
    "\tt1 = threading.Thread(target=print_square, args=(10,))\n",
    "\tt2 = threading.Thread(target=print_cube, args=(10,))\n",
    "\n",
    "\t# starting thread 1\n",
    "\tt1.start()\n",
    "\t# starting thread 2\n",
    "\tt2.start()\n",
    "\n",
    "\t# wait until thread 1 is completely executed\n",
    "\tt1.join()\n",
    "\t# wait until thread 2 is completely executed\n",
    "\tt2.join()\n",
    "\n",
    "\t# both threads completely executed\n",
    "\tprint(\"Done!\")"
   ]
  },
  {
   "cell_type": "markdown",
   "id": "d2d74b45-b19c-421a-8e3d-7a7c713741aa",
   "metadata": {},
   "source": [
    "### Q5. State advantages and disadvantages of multithreading"
   ]
  },
  {
   "cell_type": "markdown",
   "id": "0a0f2d89-8168-44ec-be86-dd26c57b4c0e",
   "metadata": {},
   "source": [
    "### A: Following are some of the common advantages of multithreading:\n",
    "\n",
    "* Enhanced performance by decreased development time\n",
    "* Simplified and streamlined program coding\n",
    "* Improvised GUI responsiveness\n",
    "* Simultaneous and parallelized occurrence of tasks\n",
    "* Better use of cache storage by utilization of resources\n",
    "* Decreased cost of maintenance\n",
    "* Better use of CPU resource"
   ]
  },
  {
   "cell_type": "markdown",
   "id": "e0ddc609-fe53-430c-a7dc-b295493ab049",
   "metadata": {},
   "source": [
    "### Multithreading does not only provide you with benefits, it has its disadvantages too. Let us go through some common disadvantages:"
   ]
  },
  {
   "cell_type": "markdown",
   "id": "a85f2543-92ba-4c23-babf-2644a5307c7e",
   "metadata": {},
   "source": [
    "* Complex debugging and testing processes\n",
    "* Overhead switching of context\n",
    "* Increased potential for deadlock occurrence\n",
    "* Increased difficulty level in writing a program\n",
    "* Unpredictable results"
   ]
  },
  {
   "cell_type": "markdown",
   "id": "8f1dd909-60fe-4732-b8ff-82a36e5cfb86",
   "metadata": {},
   "source": [
    "### Q6. Explain deadlocks and race conditions."
   ]
  },
  {
   "cell_type": "markdown",
   "id": "d008a68e-ab93-4758-b81c-8faea6c9e22a",
   "metadata": {},
   "source": [
    "### A: When two processes are waiting for each other directly or indirectly, it is called deadlock."
   ]
  },
  {
   "cell_type": "code",
   "execution_count": null,
   "id": "41588817-9620-4a0a-9f25-9edc548c9e56",
   "metadata": {},
   "outputs": [],
   "source": []
  }
 ],
 "metadata": {
  "kernelspec": {
   "display_name": "Python 3 (ipykernel)",
   "language": "python",
   "name": "python3"
  },
  "language_info": {
   "codemirror_mode": {
    "name": "ipython",
    "version": 3
   },
   "file_extension": ".py",
   "mimetype": "text/x-python",
   "name": "python",
   "nbconvert_exporter": "python",
   "pygments_lexer": "ipython3",
   "version": "3.10.8"
  }
 },
 "nbformat": 4,
 "nbformat_minor": 5
}
