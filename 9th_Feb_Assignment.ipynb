{
 "cells": [
  {
   "cell_type": "markdown",
   "id": "67d8e454-2719-4405-975c-cfc2172de848",
   "metadata": {},
   "source": [
    "### Q1, Create a vehicle class with an init method having instance variables as name_of_vehicle, max_speed and average_of_vehicle."
   ]
  },
  {
   "cell_type": "markdown",
   "id": "2437f302-8386-48ab-9a43-45458a9c9c99",
   "metadata": {},
   "source": [
    "### A:"
   ]
  },
  {
   "cell_type": "code",
   "execution_count": 4,
   "id": "4727c0f1-9db2-4774-bb43-39839f72a9c8",
   "metadata": {},
   "outputs": [
    {
     "name": "stdout",
     "output_type": "stream",
     "text": [
      "Name of Vehicle: Audi\n",
      "Maximum speed average: 150\n",
      "Average of the vehicle is: 10\n"
     ]
    }
   ],
   "source": [
    "class vehicle:\n",
    "    def __init__(self, name_of_vehicle, max_speed,average_of_vehicle):\n",
    "        self.name_of_vehicle = name_of_vehicle\n",
    "        self.max_speed = max_speed\n",
    "        self.average_of_vehicle=average_of_vehicle\n",
    "\n",
    "s1 = vehicle(\"Audi\", 150,10)\n",
    "\n",
    "print('Name of Vehicle:', s1.name_of_vehicle)\n",
    "print('Maximum speed average:', s1.max_speed)\n",
    "print('Average of the vehicle is:',s1.average_of_vehicle)\n"
   ]
  },
  {
   "cell_type": "markdown",
   "id": "9656c34a-cfc5-4b46-91f0-5d8fb694edc7",
   "metadata": {},
   "source": [
    "### Q2. Create a child class car from the vehicle class created in Que 1, which will inherit the vehicle class.Create a method named seating_capacity which takes capacity as an argument and returns the name of the vehicle and its seating capacity."
   ]
  },
  {
   "cell_type": "code",
   "execution_count": 10,
   "id": "d873afaf-4b54-4454-83fa-d5d8998dc52e",
   "metadata": {},
   "outputs": [
    {
     "name": "stdout",
     "output_type": "stream",
     "text": [
      "5\n"
     ]
    }
   ],
   "source": [
    "class Vehicle:\n",
    "    def __init__(self, seating_capacity):\n",
    "        self.seating_capacity = seating_capacity\n",
    "    \n",
    "car = Vehicle(5)\n",
    "print(car.seating_capacity)"
   ]
  },
  {
   "cell_type": "markdown",
   "id": "c198b9d8-de51-45c5-9b81-676a26a4e3f0",
   "metadata": {},
   "source": [
    "### Q3. What is multiple inheritance? Write a python code to demonstrate multiple inheritance."
   ]
  },
  {
   "cell_type": "markdown",
   "id": "9cf4636c-5273-40bd-b830-7bc730061012",
   "metadata": {},
   "source": [
    "### A:\n",
    "### Multiple Inheritance:"
   ]
  },
  {
   "cell_type": "markdown",
   "id": "cda7272b-1213-47cc-87ff-4a6a2cd84deb",
   "metadata": {},
   "source": [
    "### When a class is derived from more than one base class it is called multiple Inheritance. The derived class inherits all the features of the base case."
   ]
  },
  {
   "cell_type": "code",
   "execution_count": 23,
   "id": "2eadd47d-309d-4e5e-bce2-d0c7e9afcf8e",
   "metadata": {},
   "outputs": [
    {
     "name": "stdout",
     "output_type": "stream",
     "text": [
      "In Class2\n"
     ]
    }
   ],
   "source": [
    "# Python Program to depict multiple inheritance\n",
    "# when method is overridden in both classes\n",
    " \n",
    "class Class1:\n",
    "    def m(self):\n",
    "        print(\"In Class1\")\n",
    "class Class2(Class1):\n",
    "     def m(self):\n",
    "        print(\"In Class2\")\n",
    "class Class3(Class1):\n",
    "     def m(self):\n",
    "        print(\"In Class3\") \n",
    "        \n",
    "class Class4(Class2, Class3):\n",
    "    pass  \n",
    "     \n",
    "obj = Class4()\n",
    "obj.m()"
   ]
  },
  {
   "cell_type": "markdown",
   "id": "e60241da-130e-46f9-8dff-71d9ee96d8e6",
   "metadata": {},
   "source": [
    "### Q4. What are getter and setter in python? Create a class and create a getter and a setter method in this class."
   ]
  },
  {
   "cell_type": "markdown",
   "id": "b9227ddc-f33a-4eb6-b465-e196b4c068cf",
   "metadata": {},
   "source": [
    "### In Python, getters and setters are not the same as those in other object-oriented programming languages. Basically, the main purpose of using getters and setters in object-oriented programs is to ensure data encapsulation. Private variables in python are not actually hidden fields like in other object oriented languages. Getters and Setters in python are often used when:"
   ]
  },
  {
   "cell_type": "markdown",
   "id": "e07fba61-343d-41c0-bb04-a39cf092f022",
   "metadata": {},
   "source": [
    "* We use getters & setters to add validation logic around getting and setting a value.\n",
    "* To avoid direct access of a class field i.e. private variables cannot be accessed directly or modified by external user."
   ]
  },
  {
   "cell_type": "markdown",
   "id": "8473c7e3-06b5-4cad-95c2-50555bb8751f",
   "metadata": {},
   "source": [
    "### Using normal function to achieve getters and setters behaviour\n",
    "### To achieve getters & setters property, if we define normal get() and set() methods it will not reflect any special implementation. For Example:"
   ]
  },
  {
   "cell_type": "code",
   "execution_count": 24,
   "id": "f80b26c6-43bb-4052-8abf-4c849178c553",
   "metadata": {},
   "outputs": [
    {
     "name": "stdout",
     "output_type": "stream",
     "text": [
      "21\n",
      "21\n"
     ]
    }
   ],
   "source": [
    "# Python program showing a use\n",
    "# of get() and set() method in\n",
    "# normal function\n",
    "\n",
    "class Geek:\n",
    "\tdef __init__(self, age = 0):\n",
    "\t\tself._age = age\n",
    "\t\n",
    "\t# getter method\n",
    "\tdef get_age(self):\n",
    "\t\treturn self._age\n",
    "\t\n",
    "\t# setter method\n",
    "\tdef set_age(self, x):\n",
    "\t\tself._age = x\n",
    "\n",
    "raj = Geek()\n",
    "\n",
    "# setting the age using setter\n",
    "raj.set_age(21)\n",
    "\n",
    "# retrieving age using getter\n",
    "print(raj.get_age())\n",
    "\n",
    "print(raj._age)\n"
   ]
  },
  {
   "cell_type": "markdown",
   "id": "fa06817d-9e23-49c9-9914-4e6ad45007b3",
   "metadata": {},
   "source": [
    "### Q5.What is method overriding in python? Write a python code to demonstrate method overriding."
   ]
  },
  {
   "cell_type": "markdown",
   "id": "b64ac453-29b9-4861-b9e6-138038345ac9",
   "metadata": {},
   "source": [
    " ### A:"
   ]
  },
  {
   "cell_type": "markdown",
   "id": "1d15afed-8869-42de-8ef7-4342bb09f60d",
   "metadata": {},
   "source": [
    "### Method overriding is an ability of any object-oriented programming language that allows a subclass or child class to provide a specific implementation of a method that is already provided by one of its super-classes or parent classes. When a method in a subclass has the same name, same parameters or signature and same return type(or sub-type) as a method in its super-class, then the method in the subclass is said to override the method in the super-class."
   ]
  },
  {
   "cell_type": "code",
   "execution_count": null,
   "id": "88b1bdf4-da7d-4e8c-8918-a021212ac82f",
   "metadata": {},
   "outputs": [],
   "source": []
  }
 ],
 "metadata": {
  "kernelspec": {
   "display_name": "Python 3 (ipykernel)",
   "language": "python",
   "name": "python3"
  },
  "language_info": {
   "codemirror_mode": {
    "name": "ipython",
    "version": 3
   },
   "file_extension": ".py",
   "mimetype": "text/x-python",
   "name": "python",
   "nbconvert_exporter": "python",
   "pygments_lexer": "ipython3",
   "version": "3.10.8"
  }
 },
 "nbformat": 4,
 "nbformat_minor": 5
}
