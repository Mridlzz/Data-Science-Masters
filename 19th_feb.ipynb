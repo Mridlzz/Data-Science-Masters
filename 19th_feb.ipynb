{
 "cells": [
  {
   "cell_type": "markdown",
   "id": "e1c27a63-15cd-4080-afc4-109752ca0319",
   "metadata": {},
   "source": [
    "### Q1. What is Flask Framework? What are the advantages of Flask Framework?"
   ]
  },
  {
   "cell_type": "markdown",
   "id": "de9d1e06-26df-4a90-ad8f-64677423dc1e",
   "metadata": {},
   "source": [
    "### A:"
   ]
  },
  {
   "cell_type": "markdown",
   "id": "443f1017-aab2-44c5-9132-a15ffdf8f3a4",
   "metadata": {},
   "source": [
    "Flask is a micro web framework for Python that provides a simple and flexible way to build web applications. It is designed to be easy to use and has a small core with many extensions available to add functionality as needed. Flask is known for its simplicity, minimalism, and ease of use, and it has become a popular choice for developers who want to build small to medium-sized web applications quickly and efficiently.\n",
    "\n",
    "Here are some of the advantages of using Flask Framework:\n",
    "\n",
    "Lightweight and flexible: Flask is a lightweight framework that does not require any particular tools or libraries to run. It is flexible and allows developers to choose the tools and libraries they want to use in their project.\n",
    "\n",
    "Simple to use: Flask has a simple and easy-to-use API, which makes it easy for developers to learn and use. It provides a basic set of tools and features, which can be extended as needed.\n",
    "\n",
    "Extensible: Flask has a modular design, which means that it can be easily extended with various third-party libraries and plugins. This allows developers to add functionality to their application without having to write everything from scratch.\n",
    "\n",
    "Well-documented: Flask has a comprehensive and easy-to-read documentation that covers all aspects of the framework. It also has a large and active community of developers who contribute to its development and provide support to other users.\n",
    "\n",
    "Good for small to medium-sized projects: Flask is well-suited for building small to medium-sized web applications. It is not intended for large-scale applications, but it can be used for building prototypes, proof-of-concepts, and small-scale applications.\n",
    "\n",
    "Fast development: Flask allows developers to build web applications quickly and efficiently, which can save time and resources. It provides a simple and straightforward way to handle requests and responses, making it easy to get started with building web applications."
   ]
  },
  {
   "cell_type": "markdown",
   "id": "74b1d52f-fbd2-43a9-b5ad-31b1aacd86b1",
   "metadata": {},
   "source": [
    "### Q2. Create a simple Flask application to display ‘Hello World!!’. Attach the screenshot of the output in Jupyter Notebook."
   ]
  },
  {
   "cell_type": "markdown",
   "id": "9482c575-315c-4b18-8fbd-b14365680846",
   "metadata": {},
   "source": [
    "### A:"
   ]
  },
  {
   "cell_type": "markdown",
   "id": "b21b2462-439e-4b29-beb3-a5ae4f20b49d",
   "metadata": {},
   "source": [
    "![](code.jpg)"
   ]
  },
  {
   "cell_type": "markdown",
   "id": "a5215962-c21d-46f5-bd6f-72b96dd744fe",
   "metadata": {},
   "source": [
    "![](hello.jpg)"
   ]
  },
  {
   "cell_type": "markdown",
   "id": "a6f9b805-a9e7-4fc0-aa30-e04bf5e18c78",
   "metadata": {},
   "source": [
    "### Q3. What is App routing in Flask? Why do we use app routes?"
   ]
  },
  {
   "cell_type": "markdown",
   "id": "2374b54e-7570-4fec-9b62-6e6a0b84b2e7",
   "metadata": {},
   "source": [
    "### A: App routing in Flask refers to the process of mapping URLs to view functions in a Flask application. Flask uses a decorator called @app.route to define routes and associate them with view functions.\n",
    "\n",
    "### When a user requests a URL that matches a defined route in the Flask app, the corresponding view function is executed and its return value is sent back to the user as a response. Flask supports various HTTP methods like GET, POST, PUT, DELETE, etc., and we can specify which HTTP methods a route should respond to using the methods argument in the @app.route decorator."
   ]
  },
  {
   "cell_type": "markdown",
   "id": "185529e9-4583-4c0f-b502-34af9db09ccd",
   "metadata": {},
   "source": [
    "### Q4. Create a “/welcome” route to display the welcome message “Welcome to ABC Corporation” and a “/”route to show the following details:\n",
    "### Company Name: ABC Corporation\n",
    "### Location: India\n",
    "### Contact Detail: 999-999-9999"
   ]
  },
  {
   "cell_type": "markdown",
   "id": "24593dc6-8272-485c-9737-292ca79789f6",
   "metadata": {},
   "source": [
    "![](flask.jpg)"
   ]
  },
  {
   "cell_type": "markdown",
   "id": "629757a3-b72a-4d3a-9e41-e5552dbd0946",
   "metadata": {},
   "source": [
    "![](company.jpg)"
   ]
  },
  {
   "cell_type": "markdown",
   "id": "8b425b07-b23b-405e-9c5e-4466291f0b94",
   "metadata": {},
   "source": [
    "![](abc.jpg)"
   ]
  },
  {
   "cell_type": "markdown",
   "id": "d16510ac-6d1f-45ef-a9b9-22f4c05708f4",
   "metadata": {},
   "source": [
    "### Q5. What function is used in Flask for URL Building? Write a Python code to demonstrate the working of the url_for() function."
   ]
  },
  {
   "cell_type": "markdown",
   "id": "fc60017a-230d-42c4-9d7e-3a006f51018e",
   "metadata": {},
   "source": [
    "### A: url_for() function.\n",
    "\n",
    "### In Flask, the url_for() function is used for URL building. This function generates a URL for a given endpoint and can also be used to pass dynamic parameters to the endpoint."
   ]
  },
  {
   "cell_type": "markdown",
   "id": "b077aaf6-c38b-48b9-8b50-41496f6b1e5b",
   "metadata": {},
   "source": [
    "![](url.jpg)"
   ]
  },
  {
   "cell_type": "code",
   "execution_count": null,
   "id": "de2757fe-ea3c-4588-bb19-d2d29a681154",
   "metadata": {},
   "outputs": [],
   "source": []
  }
 ],
 "metadata": {
  "kernelspec": {
   "display_name": "Python 3 (ipykernel)",
   "language": "python",
   "name": "python3"
  },
  "language_info": {
   "codemirror_mode": {
    "name": "ipython",
    "version": 3
   },
   "file_extension": ".py",
   "mimetype": "text/x-python",
   "name": "python",
   "nbconvert_exporter": "python",
   "pygments_lexer": "ipython3",
   "version": "3.10.8"
  }
 },
 "nbformat": 4,
 "nbformat_minor": 5
}
