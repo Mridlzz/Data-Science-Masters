{
 "cells": [
  {
   "cell_type": "markdown",
   "id": "9db877db-e7ae-4e41-82e8-517bce3b9835",
   "metadata": {},
   "source": [
    "### Q1. What is a database? Differentiate between SQL and NoSQL databases."
   ]
  },
  {
   "cell_type": "markdown",
   "id": "f69e8c44-2602-4144-ae33-359779f289df",
   "metadata": {},
   "source": [
    "### A: A database is an organized collection of structured information, or data, typically stored electronically in a computer system. A database is usually controlled by a database management system (DBMS). Together, the data and the DBMS, along with the applications that are associated with them, are referred to as a database system, often shortened to just database.\n",
    "\n",
    "### Data within the most common types of databases in operation today is typically modeled in rows and columns in a series of tables to make processing and data querying efficient. The data can then be easily accessed, managed, modified, updated, controlled, and organized. Most databases use structured query language (SQL) for writing and querying data."
   ]
  },
  {
   "cell_type": "markdown",
   "id": "9f777a6d-780b-4f89-a8ce-a7aa9c017253",
   "metadata": {},
   "source": [
    "### The Main Differences: "
   ]
  },
  {
   "cell_type": "markdown",
   "id": "fb611d71-8986-4cb5-a585-5f65f004f7c3",
   "metadata": {},
   "source": [
    "* Type – \n",
    "SQL databases are primarily called as Relational Databases (RDBMS); whereas NoSQL database are primarily called as non-relational or distributed database. "
   ]
  },
  {
   "cell_type": "markdown",
   "id": "73162fe1-ca14-4f7b-b3df-1106dca33f1b",
   "metadata": {},
   "source": [
    "* Language – \n",
    "SQL databases defines and manipulates data based structured query language (SQL). Seeing from a side this language is extremely powerful. SQL is one of the most versatile and widely-used options available which makes it a safe choice especially for great complex queries. But from other side it can be restrictive. SQL requires you to use predefined schemas to determine the structure of your data before you work with it. Also all of your data must follow the same structure. This can require significant up-front preparation which means that a change in the structure would be both difficult and disruptive to your whole system. \n",
    "A NoSQL database has dynamic schema for unstructured data. Data is stored in many ways which means it can be document-oriented, column-oriented, graph-based or organized as a KeyValue store. This flexibility means that documents can be created without having defined structure first. Also each document can have its own unique structure. The syntax varies from database to database, and you can add fields as you go. "
   ]
  },
  {
   "cell_type": "markdown",
   "id": "1243adcc-62df-473d-964b-076870d34e95",
   "metadata": {},
   "source": [
    "* Scalability – \n",
    "In almost all situations SQL databases are vertically scalable. This means that you can increase the load on a single server by increasing things like RAM, CPU or SSD. But on the other hand NoSQL databases are horizontally scalable. This means that you handle more traffic by sharding, or adding more servers in your NoSQL database. It is similar to adding more floors to the same building versus adding more buildings to the neighborhood. Thus NoSQL can ultimately become larger and more powerful, making these databases the preferred choice for large or ever-changing data sets."
   ]
  },
  {
   "cell_type": "markdown",
   "id": "342b34ef-0be5-48f8-b741-af9d57a5a1ce",
   "metadata": {},
   "source": [
    "* Structure – \n",
    "SQL databases are table-based on the other hand NoSQL databases are either key-value pairs, document-based, graph databases or wide-column stores. This makes relational SQL databases a better option for applications that require multi-row transactions such as an accounting system or for legacy systems that were built for a relational structure. "
   ]
  },
  {
   "cell_type": "markdown",
   "id": "4999e0c9-8a43-4f71-9d73-51312b4f8c27",
   "metadata": {},
   "source": [
    "* Property followed – \n",
    "SQL databases follow ACID properties (Atomicity, Consistency, Isolation and Durability) whereas the NoSQL database follows the Brewers CAP theorem (Consistency, Availability and Partition tolerance). "
   ]
  },
  {
   "cell_type": "markdown",
   "id": "c9fc121f-2b32-4ca0-86e5-9eadba57fd18",
   "metadata": {},
   "source": [
    "* Support – \n",
    "Great support is available for all SQL database from their vendors. Also a lot of independent consultations are there who can help you with SQL database for a very large scale deployments but for some NoSQL database you still have to rely on community support and only limited outside experts are available for setting up and deploying your large scale NoSQL deployments. "
   ]
  },
  {
   "cell_type": "markdown",
   "id": "13751601-1914-4642-885e-2d33b6dad15e",
   "metadata": {},
   "source": [
    "### Q2. What is DDL? Explain why CREATE, DROP, ALTER, and TRUNCATE are used with an example."
   ]
  },
  {
   "cell_type": "markdown",
   "id": "05e2ea53-dccc-435f-9ab3-2854b3fa699b",
   "metadata": {},
   "source": [
    "### A: DDL is an abbreviation of Data Definition Language.\n",
    "\n",
    "### The DDL Commands in Structured Query Language are used to create and modify the schema of the database and its objects. The syntax of DDL commands is predefined for describing the data. The commands of Data Definition Language deal with how the data should exist in the database."
   ]
  },
  {
   "cell_type": "markdown",
   "id": "33bbb79a-271f-4b7f-a3b8-0a263a3cd0c0",
   "metadata": {},
   "source": [
    "### Following are the five DDL commands in SQL:"
   ]
  },
  {
   "cell_type": "markdown",
   "id": "efe3335a-3e3b-473c-8223-aedf7af4b908",
   "metadata": {},
   "source": [
    "* CREATE Command\n",
    "* DROP Command\n",
    "* ALTER Command\n",
    "* TRUNCATE Command\n",
    "* RENAME Command"
   ]
  },
  {
   "cell_type": "markdown",
   "id": "6339ed01-efdd-48ef-a785-8c8824d0cf64",
   "metadata": {},
   "source": [
    "### CREATE Command\n",
    " CREATE is a DDL command used to create databases, tables, triggers and other database objects."
   ]
  },
  {
   "cell_type": "markdown",
   "id": "c8a90e2f-0cc7-4449-b5d6-49f68f520179",
   "metadata": {},
   "source": [
    "### DROP Command\n",
    "DROP is a DDL command used to delete/remove the database objects from the SQL database. We can easily remove the entire table, view, or index from the database using this DDL command."
   ]
  },
  {
   "cell_type": "markdown",
   "id": "bb88c153-edf9-476d-a54d-9c391a53d3ff",
   "metadata": {},
   "source": [
    "### ALTER Command\n",
    " ALTER is a DDL command which changes or modifies the existing structure of the database, and it also changes the schema of database objects.\n",
    "\n",
    " We can also add and drop constraints of the table using the ALTER command."
   ]
  },
  {
   "cell_type": "markdown",
   "id": "b54265f7-7c39-4b20-a3e2-ead7ffef8cb9",
   "metadata": {},
   "source": [
    "### TRUNCATE Command\n",
    " TRUNCATE is another DDL command which deletes or removes all the records from the table.\n",
    "\n",
    " This command also removes the space allocated for storing the table records."
   ]
  },
  {
   "cell_type": "markdown",
   "id": "a5a8a8c9-9ea1-421e-927f-abb3fa1b3bff",
   "metadata": {},
   "source": [
    "### RENAME Command\n",
    " RENAME is a DDL command which is used to change the name of the database table."
   ]
  },
  {
   "cell_type": "markdown",
   "id": "bacfa276-5f54-41f8-a238-2718dcb8d349",
   "metadata": {},
   "source": [
    "### Q3. What is DML? Explain INSERT, UPDATE, and DELETE with an example."
   ]
  },
  {
   "cell_type": "markdown",
   "id": "9f4b7914-59f6-40fc-ab1a-a372778c7a4c",
   "metadata": {},
   "source": [
    "### A: DML is an abbreviation of Data Manipulation Language.\n",
    "\n",
    "### The DML commands in Structured Query Language change the data present in the SQL database. We can easily access, store, modify, update and delete the existing records from the database using DML commands."
   ]
  },
  {
   "cell_type": "markdown",
   "id": "9af77c1d-4d14-4add-a5da-69f5c13602fd",
   "metadata": {},
   "source": [
    "### Following are the four main DML commands in SQL:"
   ]
  },
  {
   "cell_type": "markdown",
   "id": "be5bb4e9-5f85-4de2-a33d-9ed8524e09a4",
   "metadata": {},
   "source": [
    "* SELECT Command\n",
    "* INSERT Command\n",
    "* UPDATE Command\n",
    "* DELETE Command"
   ]
  },
  {
   "cell_type": "markdown",
   "id": "6af6533b-5038-49c9-aa3e-a11b5de2c2dd",
   "metadata": {},
   "source": [
    "### SELECT DML Command\n",
    "SELECT is the most important data manipulation command in Structured Query Language. The SELECT command shows the records of the specified table. It also shows the particular record of a particular column by using the WHERE clause."
   ]
  },
  {
   "cell_type": "markdown",
   "id": "69690317-a7d7-4094-b1f3-3515bf79660c",
   "metadata": {},
   "source": [
    "### INSERT DML Command\n",
    "INSERT is another most important data manipulation command in Structured Query Language, which allows users to insert data in database tables."
   ]
  },
  {
   "cell_type": "markdown",
   "id": "c7e961a1-6633-4a4d-9897-e1ed28a00724",
   "metadata": {},
   "source": [
    "### UPDATE DML Command\n",
    "UPDATE is another most important data manipulation command in Structured Query Language, which allows users to update or modify the existing data in database tables."
   ]
  },
  {
   "cell_type": "markdown",
   "id": "88926ae2-539f-4f66-9ce3-a1f1618445a4",
   "metadata": {},
   "source": [
    "### DELETE DML Command\n",
    "DELETE is a DML command which allows SQL users to remove single or multiple existing records from the database tables.\n",
    "\n",
    "This command of Data Manipulation Language does not delete the stored data permanently from the database. We use the WHERE clause with the DELETE command to select specific rows from the table."
   ]
  },
  {
   "cell_type": "markdown",
   "id": "0e3ec66a-bb98-44c5-ad50-7f3957113112",
   "metadata": {},
   "source": [
    "### Q4. What is DQL? Explain SELECT with an example."
   ]
  },
  {
   "cell_type": "markdown",
   "id": "1a0acfe3-44d6-40d8-8cf3-7a5448bcb804",
   "metadata": {},
   "source": [
    "### DQL is used to fetch the data from the database.\n",
    "\n",
    "### It uses only one command:\n",
    "\n",
    "* SELECT"
   ]
  },
  {
   "cell_type": "markdown",
   "id": "a1357400-2f1d-4687-b9d2-e18674f325f2",
   "metadata": {},
   "source": [
    "### For example:"
   ]
  },
  {
   "cell_type": "code",
   "execution_count": null,
   "id": "eb30775f-0e02-409a-ad33-f4cfec8bf9a7",
   "metadata": {},
   "outputs": [],
   "source": [
    "SELECT emp_name  \n",
    "FROM employee  \n",
    "WHERE age > 20;  "
   ]
  },
  {
   "cell_type": "markdown",
   "id": "d234dba5-e2dc-4ca9-aae1-d0da09dc0ab9",
   "metadata": {},
   "source": [
    "### Q5. Explain Primary Key and Foreign Key."
   ]
  },
  {
   "cell_type": "markdown",
   "id": "30dd1597-052c-4895-a5dc-dd65c9c6dffc",
   "metadata": {},
   "source": [
    "### A: A primary key is a column (or set of columns) in a table that uniquely identifies each row in the table. It cannot contain null values and must be unique across all rows in the table. Only one primary key is allowed in a table.\n",
    "\n",
    "### A primary key is basically a combination of the 'UNIQUE' and 'Not Null' constraints. Thus, it cannot be a NULL value. Another important point to be noted about primary key is that its value cannot be deleted from the parent table."
   ]
  },
  {
   "cell_type": "markdown",
   "id": "f48a6f11-8e59-4489-bc42-5a203175d3d5",
   "metadata": {},
   "source": [
    "### A foreign key is a column (or set of columns) in a table that refers to the primary key in another table. It is used to establish a link between the two tables and is used to enforce referential integrity in the database. Foreign key is basically the field/column in a table that is analogous to the primary key of other table.\n",
    "\n",
    "### Unlike a primary key, a table can have more than one foreign key. Also, the foreign key can contain duplicate and null values in a relational database. The value of a foreign key can be deleted from the child table."
   ]
  },
  {
   "cell_type": "markdown",
   "id": "19b3d6ec-d8e7-4e83-9125-160e5b3cceab",
   "metadata": {},
   "source": [
    "### Q6. Write a python code to connect MySQL to python. Explain the cursor() and execute() method."
   ]
  },
  {
   "cell_type": "code",
   "execution_count": null,
   "id": "99b69524-c37f-4aff-88c9-e7f9fd0e12ae",
   "metadata": {},
   "outputs": [],
   "source": [
    "import mysql.connector\n",
    "\n",
    "#establishing the connection\n",
    "conn = mysql.connector.connect(\n",
    "   user='root', password='password', host='127.0.0.1', database='mydb'\n",
    ")\n",
    "#Creating a cursor object using the cursor() method\n",
    "cursor = conn.cursor()"
   ]
  },
  {
   "cell_type": "markdown",
   "id": "1eb1e28d-a904-4efb-bbda-565e0b6b6a1b",
   "metadata": {},
   "source": [
    "### Q7. Give the order of execution of SQL clauses in an SQL query."
   ]
  },
  {
   "cell_type": "code",
   "execution_count": null,
   "id": "3321e5e4-3dbc-48cb-b907-5d9223529a0d",
   "metadata": {},
   "outputs": [],
   "source": [
    "SELECT DISTINCT column, AGG_FUNC(column_or_expression), …\n",
    "FROM mytable\n",
    "    JOIN another_table\n",
    "      ON mytable.column = another_table.column\n",
    "    WHERE constraint_expression\n",
    "    GROUP BY column\n",
    "    HAVING constraint_expression\n",
    "    ORDER BY column ASC/DESC\n",
    "    LIMIT count OFFSET COUNT;"
   ]
  },
  {
   "cell_type": "code",
   "execution_count": null,
   "id": "d86de756-75ee-418d-8bc3-3b1f58a5fba9",
   "metadata": {},
   "outputs": [],
   "source": []
  }
 ],
 "metadata": {
  "kernelspec": {
   "display_name": "Python 3 (ipykernel)",
   "language": "python",
   "name": "python3"
  },
  "language_info": {
   "codemirror_mode": {
    "name": "ipython",
    "version": 3
   },
   "file_extension": ".py",
   "mimetype": "text/x-python",
   "name": "python",
   "nbconvert_exporter": "python",
   "pygments_lexer": "ipython3",
   "version": "3.10.8"
  }
 },
 "nbformat": 4,
 "nbformat_minor": 5
}
