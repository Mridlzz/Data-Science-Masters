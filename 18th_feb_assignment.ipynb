{
 "cells": [
  {
   "cell_type": "markdown",
   "id": "d7954108-6c15-4934-8a12-888be8d5a5f2",
   "metadata": {},
   "source": [
    "### Q1. What is an API? Give an example, where an API is used in real life."
   ]
  },
  {
   "cell_type": "markdown",
   "id": "89847f9b-0122-4dae-a6de-0f04f9bb4b28",
   "metadata": {},
   "source": [
    "### A: API stands for Application Programming Interface. In the context of APIs, the word Application refers to any software with a distinct function. Interface can be thought of as a contract of service between two applications. This contract defines how the two communicate with each other using requests and responses. Their API documentation contains information on how developers are to structure those requests and responses."
   ]
  },
  {
   "cell_type": "markdown",
   "id": "aa025990-0396-4d9e-ab63-e76d51bf7089",
   "metadata": {},
   "source": [
    "### APIs are mechanisms that enable two software components to communicate with each other using a set of definitions and protocols. For example, the weather bureau’s software system contains daily weather data. The weather app on your phone “talks” to this system via APIs and shows you daily weather updates on your phone."
   ]
  },
  {
   "cell_type": "markdown",
   "id": "dc51578c-0317-458a-8e57-fc103a7c9c58",
   "metadata": {},
   "source": [
    "### Q2. Give advantages and disadvantages of using API."
   ]
  },
  {
   "cell_type": "markdown",
   "id": "316836d8-c779-4707-9e49-2fda50b6405d",
   "metadata": {},
   "source": [
    "### A: The main advantage of providing an API is that it allows your users to do more with your product or service (i.e. it increases the value of your product). This typically takes one of two forms -\n",
    "\n",
    "* an integration. An example of an integration is to push notifications from your product (such as CRM, Helpdesk) to a messaging tool such as Slack. In this way, if your customer uses Slack they can receive notifications without having to login directly to your system or check emails.\n",
    "* new functionality. In the early days of Twitter, some of the most popular Twitter clients were produced by third parties using the Twitter API. Twitter and its users benefited from the new functionality that was undertaken by other companies."
   ]
  },
  {
   "cell_type": "markdown",
   "id": "bf0d2bb6-5b64-4e24-886c-597a44966653",
   "metadata": {},
   "source": [
    "The disadvantages to providing an API are,\n",
    "\n",
    "* Cost. Providing an API is expensive in terms of development time, ongoing maintenance, providing API documentation on your website and providing support to users of your API.\n",
    "* Security exposure. Adding an API adds another attack surface to your website.\n",
    "* You might not like the result or you may change business direction. It's not always easy to predict exactly how your API will be used. If your integration with a messaging system means that users login to your service less often, will there be an overall negative impact for you? Withdrawing an API can be painful for users if you decide that you need to do so. This is unusual but it can happen. As Twitter's business evolved it changed its rules for accessing its API which resulted in a number of problems for users and developers "
   ]
  },
  {
   "cell_type": "markdown",
   "id": "91bb04da-4e7e-4ce6-805e-d9ba9d13ff56",
   "metadata": {},
   "source": [
    "### Q3. What is a Web API? Differentiate between API and Web API."
   ]
  },
  {
   "cell_type": "markdown",
   "id": "860fe7ea-aef1-4e64-b86f-6527ac4f9556",
   "metadata": {},
   "source": [
    "### A: Web API is an extensible framework for building HTTP based services that can be accessed in different applications on different platforms such as web, windows, mobile etc. It works more or less the same way as ASP.NET MVC web application except that it sends data as a response instead of html view. It is like a webservice or WCF service but the exception is that it only supports HTTP protocol."
   ]
  },
  {
   "cell_type": "markdown",
   "id": "4f7b0dbd-5230-4c10-9f66-5c1db61778ca",
   "metadata": {},
   "source": [
    "### Q4. Explain REST and SOAP Architecture. Mention shortcomings of SOAP."
   ]
  },
  {
   "cell_type": "markdown",
   "id": "0b835280-2ecc-4b3a-bc31-3c299c0bd72a",
   "metadata": {},
   "source": [
    "### A: SOAP (Simple Object Access Protocol) is an XML-based protocol for accessing web services over HTTP. It is developed as an intermediate language so that applications built in various programming languages can communicate with each other effectively. Web services use SOAP for exchange of XML data between applications. SOAP supports both stateful and stateless operations. Stateful means that the server keeps the information that it receives from the client across multiple requests. These requests are chained together so that the server is aware about the previous requests. Examples are bank transactions, flight bookings, etc. Stateless messaging has enough information about the state of the client so that the server does not have to bother."
   ]
  },
  {
   "cell_type": "markdown",
   "id": "8e4f4fb2-f3a1-42ef-9181-d7ff357f0687",
   "metadata": {},
   "source": [
    "### REST (Representational State Transfer) is an architectural approach for communication purposes often used in various web services development. It is a stateless client-server model. Web services that are defined on the concept of REST are RESTful web services. When a client makes a request via RESTful API, it transfers the representation of the state of the resources to the server. This information can be transferred in various formats via HTTP like, JSON, HTML, XLT, and Plain Text, but JSON is the most common language used due to its easy readability by machines and humans."
   ]
  },
  {
   "cell_type": "markdown",
   "id": "b7b3dd0e-f57a-418a-b899-559500b4a77d",
   "metadata": {},
   "source": [
    "### Q5. Differentiate between REST and SOAP."
   ]
  },
  {
   "cell_type": "markdown",
   "id": "c45b2846-3324-4267-900d-2eac3cb57c3f",
   "metadata": {},
   "source": [
    "### A: SOAP is a standard protocol that was first designed so that applications built with different languages and on different platforms could communicate. Because it is a protocol, it imposes built-in rules that increase its complexity and overhead, which can lead to longer page load times. However, these standards also offer built-in compliances that can make it preferable for enterprise scenarios. The built-in compliance standards include security, atomicity, consistency, isolation, and durability (ACID), which is a set of properties for ensuring reliable database transactions.\n",
    "\n",
    "### Common web service specifications include:\n",
    "\n",
    "* Web services security (WS-security): Standardizes how messages are secured and transferred through unique identifiers called tokens.\n",
    "* WS-ReliableMessaging: Standardizes error handling between messages transferred across unreliable IT infrastructure.\n",
    "* Web services addressing (WS-addressing): Packages routing information as metadata within SOAP headers, instead of maintaining such information deeper within the network.\n",
    "* Web services description language (WSDL): Describes what a web service does, and where that service begins and ends.\n",
    "### When a request for data is sent to a SOAP API, it can be handled through any of the application layer protocols: HTTP (for web browsers), SMTP (for email), TCP, and others. However, once a request is received, return SOAP messages must be returned as XML documents—a markup language that is both human- and machine-readable. A completed request to a SOAP API is not cacheable by a browser, so it cannot be accessed later without resending to the API."
   ]
  },
  {
   "cell_type": "markdown",
   "id": "21b0aedb-04fd-4889-bfc2-5274192e5a2d",
   "metadata": {},
   "source": [
    "### REST is a set of architectural principles attuned to the needs of lightweight web services and mobile applications. Because it's a set of guidelines, it leaves the implementation of these recommendations to developers.\n",
    "\n",
    "### When a request for data is sent to a REST API, it’s usually done through hypertext transfer protocol (commonly referred to as HTTP). Once a request is received, APIs designed for REST (called RESTful APIs or RESTful web services) can return messages in a variety of formats: HTML, XML, plain text, and JSON. JSON (JavaScript object notation) is favored as a message format because it can be read by any programming language (despite the name), is human- and machine-readable, and is lightweight. In this way, RESTful APIs are more flexible and can be easier to set up.\n",
    "\n",
    "### An application is said to be RESTful if it follows 6 architectural guidelines. A RESTful application must have:\n",
    "\n",
    "* A client-server architecture composed of clients, servers, and resources.\n",
    "* Stateless client-server communication, meaning no client content is stored on the server between requests. Information about the session’s state is instead held with the client.\n",
    "* Cacheable data to eliminate the need for some client-server interactions.\n",
    "* A uniform interface between components so that information is transferred in a standardized form instead of specific to an application’s needs. This is described by Roy Fielding, the originator of REST, as “the central feature that distinguishes the REST architectural style from other network-based styles.”\n",
    "* A layered system constraint, where client-server interactions can be mediated by hierarchical layers.\n",
    "* Code on demand, allowing servers to extend the functionality of a client by transferring executable code (though also reducing visibility, making this an optional guideline)."
   ]
  },
  {
   "cell_type": "code",
   "execution_count": null,
   "id": "efbe5431-34b1-4961-92c0-ee73ef09fbe8",
   "metadata": {},
   "outputs": [],
   "source": []
  }
 ],
 "metadata": {
  "kernelspec": {
   "display_name": "Python 3 (ipykernel)",
   "language": "python",
   "name": "python3"
  },
  "language_info": {
   "codemirror_mode": {
    "name": "ipython",
    "version": 3
   },
   "file_extension": ".py",
   "mimetype": "text/x-python",
   "name": "python",
   "nbconvert_exporter": "python",
   "pygments_lexer": "ipython3",
   "version": "3.10.8"
  }
 },
 "nbformat": 4,
 "nbformat_minor": 5
}
