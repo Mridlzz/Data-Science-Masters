{
 "cells": [
  {
   "cell_type": "markdown",
   "id": "bbe7d3d4-4426-4e9f-a877-e796fac02202",
   "metadata": {},
   "source": [
    "### Q1. Which function is used to open a file? What are the different modes of opening a file? Explain each mode of file opening."
   ]
  },
  {
   "cell_type": "markdown",
   "id": "d3df3efd-21bd-4022-ab0d-e593294c2ef0",
   "metadata": {},
   "source": [
    "### A: In Python, we use the open() method to open files."
   ]
  },
  {
   "cell_type": "markdown",
   "id": "157bac03-34ab-4a2f-8636-c8000e0e00d2",
   "metadata": {},
   "source": [
    "### Different Modes to Open a File in Python"
   ]
  },
  {
   "cell_type": "markdown",
   "id": "ee2659ce-6ef5-4419-aae6-daa489557c96",
   "metadata": {},
   "source": [
    "* 'r'     Open a file for reading. (default)\n",
    "* 'w'     Open a file for writing. Creates a new file if it does not exist or truncates the file if it exists.\n",
    "* 'x'     Open a file for exclusive creation. If the file already exists, the operation fails.\n",
    "* 'a'     Open a file for appending at the end of the file without truncating it. Creates a new file if it does not exist.\n",
    "* 't'     Open in text mode. (default)\n",
    "* 'b'     Open in binary mode.\n",
    "* '+'     Open a file for updating (reading and writing)"
   ]
  },
  {
   "cell_type": "markdown",
   "id": "5641431e-cb2d-4907-9977-0b509f4415e9",
   "metadata": {},
   "source": [
    "### Here's few simple examples of how to open a file in different modes,"
   ]
  },
  {
   "cell_type": "code",
   "execution_count": null,
   "id": "d666e007-1910-4a82-a1db-d23047f0f264",
   "metadata": {},
   "outputs": [],
   "source": [
    "file1 = open(\"test.txt\")      # equivalent to 'r' or 'rt'\n",
    "file1 = open(\"test.txt\",'w')  # write in text mode\n",
    "file1 = open(\"img.bmp\",'r+b') # read and write in binary mode"
   ]
  },
  {
   "cell_type": "markdown",
   "id": "97df3ce5-64e4-4e65-958d-a53bab9144d6",
   "metadata": {},
   "source": [
    "### Q2. Why close() function is used? Why is it important to close a file?"
   ]
  },
  {
   "cell_type": "markdown",
   "id": "cee444bf-1b10-4bff-bc36-78cd853fa6f6",
   "metadata": {},
   "source": [
    "### A: The close() file Python method can be defined as not closing the file in python which may lead to variability when running your scripts. Hence, implementing the close() file Python method over the opened file in python will help us to save the program resources "
   ]
  },
  {
   "cell_type": "markdown",
   "id": "4ae47bc2-7c7b-44ec-8414-8c799e94ab62",
   "metadata": {},
   "source": [
    "### Below is the syntax for close() file python:"
   ]
  },
  {
   "cell_type": "code",
   "execution_count": null,
   "id": "d98a418a-15d6-4532-8b15-939f736b144d",
   "metadata": {},
   "outputs": [],
   "source": [
    "# Below is the syntax for `close()` file python:\n",
    "# close() file python\n",
    "\n",
    "fi_le.close()\n",
    "# fi_le is the document/file where we have the data stored."
   ]
  },
  {
   "cell_type": "markdown",
   "id": "36726a8e-9d11-42e1-978e-b2c3379b465d",
   "metadata": {},
   "source": [
    "### Q3. Write a python program to create a text file. Write ‘I want to become a Data Scientist’ in that file. Then close the file. Open this file and read the content of the file."
   ]
  },
  {
   "cell_type": "code",
   "execution_count": 2,
   "id": "6240817d-c483-4f2c-947f-681599334427",
   "metadata": {},
   "outputs": [
    {
     "name": "stdout",
     "output_type": "stream",
     "text": [
      "Output of Read function is \n",
      "Hello \n",
      "I want to bocome a Data Scientist \n",
      "\n",
      "\n",
      "Output of Readline function is \n",
      "Hello \n",
      "\n",
      "\n",
      "Output of Read(9) function is \n",
      "Hello \n",
      "I \n",
      "\n",
      "Output of Readline(9) function is \n",
      "Hello \n",
      "\n",
      "Output of Readlines function is \n",
      "['Hello \\n', 'I want to bocome a Data Scientist \\n']\n",
      "\n"
     ]
    }
   ],
   "source": [
    "# Program to show various ways to read and\n",
    "# write data in a file.\n",
    "file1 = open(\"myfile.txt\",\"w\")\n",
    "L = [\"I want to bocome a Data Scientist \\n\"]\n",
    "\n",
    "# \\n is placed to indicate EOL (End of Line)\n",
    "file1.write(\"Hello \\n\")\n",
    "file1.writelines(L)\n",
    "file1.close() #to change file access modes\n",
    "\n",
    "file1 = open(\"myfile.txt\",\"r+\")\n",
    "\n",
    "print(\"Output of Read function is \")\n",
    "print(file1.read())\n",
    "print()\n",
    "\n",
    "# seek(n) takes the file handle to the nth\n",
    "# byte from the beginning.\n",
    "file1.seek(0)\n",
    "\n",
    "print( \"Output of Readline function is \")\n",
    "print(file1.readline())\n",
    "print()\n",
    "\n",
    "file1.seek(0)\n",
    "\n",
    "# To show difference between read and readline\n",
    "print(\"Output of Read(9) function is \")\n",
    "print(file1.read(9))\n",
    "print()\n",
    "\n",
    "file1.seek(0)\n",
    "\n",
    "print(\"Output of Readline(9) function is \")\n",
    "print(file1.readline(9))\n",
    "\n",
    "file1.seek(0)\n",
    "# readlines function\n",
    "print(\"Output of Readlines function is \")\n",
    "print(file1.readlines())\n",
    "print()\n",
    "file1.close()\n"
   ]
  },
  {
   "cell_type": "markdown",
   "id": "3fc15ca9-21dd-4797-8268-26b0788ab72b",
   "metadata": {},
   "source": [
    "### Q4. Explain the following with python code: read(), readline() and readlines()."
   ]
  },
  {
   "cell_type": "markdown",
   "id": "5213aa3e-be67-4f3e-93ef-897952cba39f",
   "metadata": {},
   "source": [
    "### A: Python read()\n",
    "### The read method reads the entire contents of a file and returns it as a string.\n"
   ]
  },
  {
   "cell_type": "code",
   "execution_count": null,
   "id": "f23cc477-b7e8-4e57-9709-01a9889730a0",
   "metadata": {},
   "outputs": [],
   "source": [
    "with open(\"file.txt\", \"r\") as file:\n",
    "    content = file.read()\n",
    "    print(content)"
   ]
  },
  {
   "cell_type": "markdown",
   "id": "499162c2-871a-4957-ae76-bc25041ae39f",
   "metadata": {},
   "source": [
    "### Python readline()\n",
    "### The readline method reads a single line from a file and returns it as a string. This means that if you use readline, you can read the contents of a file line by line, which can be useful for processing large files that do not fit in memory."
   ]
  },
  {
   "cell_type": "code",
   "execution_count": null,
   "id": "77aa5769-d901-4a74-bdf6-1388d1b28b36",
   "metadata": {},
   "outputs": [],
   "source": [
    "with open(\"file.txt\", \"r\") as file:\n",
    "    line = file.readline()\n",
    "    while line:\n",
    "        print(line.strip())\n",
    "        line = file.readline()"
   ]
  },
  {
   "cell_type": "markdown",
   "id": "17c1166b-0078-490a-869e-4e59d769e9ec",
   "metadata": {},
   "source": [
    "### Python readlines()\n",
    "### The readline method reads a single line from a file and returns it as a string, while the readlines method reads the entire contents of a file and returns it as a list of strings, where each element of the list is a single line of the file.\n",
    "\n",
    "### You can see the difference of readline() and readlines() methods from the following example:"
   ]
  },
  {
   "cell_type": "code",
   "execution_count": null,
   "id": "44f65701-932e-493c-b963-03c9b5651a86",
   "metadata": {},
   "outputs": [],
   "source": [
    "with open(\"file.txt\") as f:\n",
    "    line = f.readline()\n",
    "    print(line)# Prints the first line of the file\n"
   ]
  },
  {
   "cell_type": "code",
   "execution_count": null,
   "id": "9b02cd0f-f1cb-454a-8a59-259dde9d1573",
   "metadata": {},
   "outputs": [],
   "source": [
    "lines = f.readlines()\n",
    "print(lines) # Prints a list of all the lines in the file after the first line"
   ]
  },
  {
   "cell_type": "markdown",
   "id": "df397d5e-b3ac-4dca-90bc-109704169871",
   "metadata": {},
   "source": [
    "### Q5. Explain why with statement is used with open(). What is the advantage of using with statement and open() together?"
   ]
  },
  {
   "cell_type": "markdown",
   "id": "6d35efb4-f874-41cb-884f-357408d178d9",
   "metadata": {},
   "source": [
    "### A: In Python, with statement is used in exception handling to make the code cleaner and much more readable. It simplifies the management of common resources like file streams. Observe the following code example on how the use of with statement makes code cleaner. "
   ]
  },
  {
   "cell_type": "code",
   "execution_count": null,
   "id": "f01c9719-8453-4859-ba92-08adea7ae73f",
   "metadata": {},
   "outputs": [],
   "source": [
    "# file handling\n",
    "\n",
    "# 1) without using with statement\n",
    "file = open('file_path', 'w')\n",
    "file.write('hello world !')\n",
    "file.close()\n",
    "\n",
    "# 2) without using with statement\n",
    "file = open('file_path', 'w')\n",
    "try:\n",
    "\tfile.write('hello world')\n",
    "finally:\n",
    "\tfile.close()\n"
   ]
  },
  {
   "cell_type": "code",
   "execution_count": null,
   "id": "b5723431-0809-475f-96d1-39bbdd76a6f4",
   "metadata": {},
   "outputs": [],
   "source": [
    "# using with statement\n",
    "with open('file_path', 'w') as file:\n",
    "\tfile.write('hello world !')\n"
   ]
  },
  {
   "cell_type": "markdown",
   "id": "1bf74f5d-8020-4265-a38d-9e0a8ab2b105",
   "metadata": {},
   "source": [
    "### Q6. Explain the write() and writelines() functions. Give a suitable example."
   ]
  },
  {
   "cell_type": "markdown",
   "id": "703afa35-fddc-4e69-8868-0ee235d52481",
   "metadata": {},
   "source": [
    "### A: In Python, there are many functions for reading and writing files. Both reading and writing functions work on open files (files opened and linked via a file object). In this section, we are going to discuss the write functions to manipulate our data through files."
   ]
  },
  {
   "cell_type": "markdown",
   "id": "a529361a-b490-4b83-95e4-59e01439fa92",
   "metadata": {},
   "source": [
    "### write() function"
   ]
  },
  {
   "cell_type": "markdown",
   "id": "37b5be26-e429-47c6-ad82-f846ae9280c0",
   "metadata": {},
   "source": [
    "### The write() function will write the content in the file without adding any extra characters.\n",
    "\n",
    "### Syntax: "
   ]
  },
  {
   "cell_type": "code",
   "execution_count": null,
   "id": "20bb543d-66d1-4c1f-8015-dc8ea7061be6",
   "metadata": {},
   "outputs": [],
   "source": [
    "# Writes string content referenced by file object.\n",
    "file_name.write(content) "
   ]
  },
  {
   "cell_type": "markdown",
   "id": "84a0877c-38e8-4450-8a54-fe0fdae27c55",
   "metadata": {},
   "source": [
    "### As per the syntax, the string that is passed to the write() function is written into the opened file. The string may include numbers, special characters, or symbols. While writing data to a file, we must know that the write function does not add a newline character(\\n) to the end of the string. The write() function returns None.\n",
    "### Example:"
   ]
  },
  {
   "cell_type": "code",
   "execution_count": 4,
   "id": "1bdb9c75-6aab-4e3d-8558-0d72001c1a3e",
   "metadata": {},
   "outputs": [
    {
     "name": "stdin",
     "output_type": "stream",
     "text": [
      "Enter the name of the employee:  Mridul\n",
      "Enter the name of the employee:  tanu\n"
     ]
    },
    {
     "ename": "KeyboardInterrupt",
     "evalue": "Interrupted by user",
     "output_type": "error",
     "traceback": [
      "\u001b[0;31m---------------------------------------------------------------------------\u001b[0m",
      "\u001b[0;31mKeyboardInterrupt\u001b[0m                         Traceback (most recent call last)",
      "Cell \u001b[0;32mIn[4], line 4\u001b[0m\n\u001b[1;32m      1\u001b[0m file \u001b[38;5;241m=\u001b[39m \u001b[38;5;28mopen\u001b[39m(\u001b[38;5;124m\"\u001b[39m\u001b[38;5;124mEmployees.txt\u001b[39m\u001b[38;5;124m\"\u001b[39m, \u001b[38;5;124m\"\u001b[39m\u001b[38;5;124mw\u001b[39m\u001b[38;5;124m\"\u001b[39m)\n\u001b[1;32m      3\u001b[0m \u001b[38;5;28;01mfor\u001b[39;00m i \u001b[38;5;129;01min\u001b[39;00m \u001b[38;5;28mrange\u001b[39m(\u001b[38;5;241m3\u001b[39m):\n\u001b[0;32m----> 4\u001b[0m     name \u001b[38;5;241m=\u001b[39m \u001b[38;5;28;43minput\u001b[39;49m\u001b[43m(\u001b[49m\u001b[38;5;124;43m\"\u001b[39;49m\u001b[38;5;124;43mEnter the name of the employee: \u001b[39;49m\u001b[38;5;124;43m\"\u001b[39;49m\u001b[43m)\u001b[49m\n\u001b[1;32m      5\u001b[0m file\u001b[38;5;241m.\u001b[39mwrite(name)\n\u001b[1;32m      6\u001b[0m file\u001b[38;5;241m.\u001b[39mwrite(\u001b[38;5;124m\"\u001b[39m\u001b[38;5;130;01m\\n\u001b[39;00m\u001b[38;5;124m\"\u001b[39m)\n",
      "File \u001b[0;32m/opt/conda/lib/python3.10/site-packages/ipykernel/kernelbase.py:1175\u001b[0m, in \u001b[0;36mKernel.raw_input\u001b[0;34m(self, prompt)\u001b[0m\n\u001b[1;32m   1171\u001b[0m \u001b[38;5;28;01mif\u001b[39;00m \u001b[38;5;129;01mnot\u001b[39;00m \u001b[38;5;28mself\u001b[39m\u001b[38;5;241m.\u001b[39m_allow_stdin:\n\u001b[1;32m   1172\u001b[0m     \u001b[38;5;28;01mraise\u001b[39;00m StdinNotImplementedError(\n\u001b[1;32m   1173\u001b[0m         \u001b[38;5;124m\"\u001b[39m\u001b[38;5;124mraw_input was called, but this frontend does not support input requests.\u001b[39m\u001b[38;5;124m\"\u001b[39m\n\u001b[1;32m   1174\u001b[0m     )\n\u001b[0;32m-> 1175\u001b[0m \u001b[38;5;28;01mreturn\u001b[39;00m \u001b[38;5;28;43mself\u001b[39;49m\u001b[38;5;241;43m.\u001b[39;49m\u001b[43m_input_request\u001b[49m\u001b[43m(\u001b[49m\n\u001b[1;32m   1176\u001b[0m \u001b[43m    \u001b[49m\u001b[38;5;28;43mstr\u001b[39;49m\u001b[43m(\u001b[49m\u001b[43mprompt\u001b[49m\u001b[43m)\u001b[49m\u001b[43m,\u001b[49m\n\u001b[1;32m   1177\u001b[0m \u001b[43m    \u001b[49m\u001b[38;5;28;43mself\u001b[39;49m\u001b[38;5;241;43m.\u001b[39;49m\u001b[43m_parent_ident\u001b[49m\u001b[43m[\u001b[49m\u001b[38;5;124;43m\"\u001b[39;49m\u001b[38;5;124;43mshell\u001b[39;49m\u001b[38;5;124;43m\"\u001b[39;49m\u001b[43m]\u001b[49m\u001b[43m,\u001b[49m\n\u001b[1;32m   1178\u001b[0m \u001b[43m    \u001b[49m\u001b[38;5;28;43mself\u001b[39;49m\u001b[38;5;241;43m.\u001b[39;49m\u001b[43mget_parent\u001b[49m\u001b[43m(\u001b[49m\u001b[38;5;124;43m\"\u001b[39;49m\u001b[38;5;124;43mshell\u001b[39;49m\u001b[38;5;124;43m\"\u001b[39;49m\u001b[43m)\u001b[49m\u001b[43m,\u001b[49m\n\u001b[1;32m   1179\u001b[0m \u001b[43m    \u001b[49m\u001b[43mpassword\u001b[49m\u001b[38;5;241;43m=\u001b[39;49m\u001b[38;5;28;43;01mFalse\u001b[39;49;00m\u001b[43m,\u001b[49m\n\u001b[1;32m   1180\u001b[0m \u001b[43m\u001b[49m\u001b[43m)\u001b[49m\n",
      "File \u001b[0;32m/opt/conda/lib/python3.10/site-packages/ipykernel/kernelbase.py:1217\u001b[0m, in \u001b[0;36mKernel._input_request\u001b[0;34m(self, prompt, ident, parent, password)\u001b[0m\n\u001b[1;32m   1214\u001b[0m             \u001b[38;5;28;01mbreak\u001b[39;00m\n\u001b[1;32m   1215\u001b[0m \u001b[38;5;28;01mexcept\u001b[39;00m \u001b[38;5;167;01mKeyboardInterrupt\u001b[39;00m:\n\u001b[1;32m   1216\u001b[0m     \u001b[38;5;66;03m# re-raise KeyboardInterrupt, to truncate traceback\u001b[39;00m\n\u001b[0;32m-> 1217\u001b[0m     \u001b[38;5;28;01mraise\u001b[39;00m \u001b[38;5;167;01mKeyboardInterrupt\u001b[39;00m(\u001b[38;5;124m\"\u001b[39m\u001b[38;5;124mInterrupted by user\u001b[39m\u001b[38;5;124m\"\u001b[39m) \u001b[38;5;28;01mfrom\u001b[39;00m \u001b[38;5;28mNone\u001b[39m\n\u001b[1;32m   1218\u001b[0m \u001b[38;5;28;01mexcept\u001b[39;00m \u001b[38;5;167;01mException\u001b[39;00m:\n\u001b[1;32m   1219\u001b[0m     \u001b[38;5;28mself\u001b[39m\u001b[38;5;241m.\u001b[39mlog\u001b[38;5;241m.\u001b[39mwarning(\u001b[38;5;124m\"\u001b[39m\u001b[38;5;124mInvalid Message:\u001b[39m\u001b[38;5;124m\"\u001b[39m, exc_info\u001b[38;5;241m=\u001b[39m\u001b[38;5;28;01mTrue\u001b[39;00m)\n",
      "\u001b[0;31mKeyboardInterrupt\u001b[0m: Interrupted by user"
     ]
    }
   ],
   "source": [
    "file = open(\"Employees.txt\", \"w\")\n",
    "\n",
    "for i in range(3):\n",
    "    name = input(\"Enter the name of the employee: \")\n",
    "file.write(name)\n",
    "file.write(\"\\n\")\n",
    "\t\n",
    "file.close()\n",
    "\n",
    "print(\"Data is written into the file.\")\n"
   ]
  },
  {
   "cell_type": "markdown",
   "id": "ef6f89eb-3335-439b-adf5-2a86eacf93bf",
   "metadata": {},
   "source": [
    "### writelines() function"
   ]
  },
  {
   "cell_type": "markdown",
   "id": "02eec72d-ec3f-4b74-9c9e-7b332f88d860",
   "metadata": {},
   "source": [
    "### This function writes the content of a list to a file.\n",
    "\n",
    "### Syntax:   "
   ]
  },
  {
   "cell_type": "code",
   "execution_count": null,
   "id": "26d32027-f576-462f-84b0-7a4e61ffde3d",
   "metadata": {},
   "outputs": [],
   "source": [
    "# write all the strings present in the list \"list_of_lines\" \n",
    "# referenced by file object.\n",
    "file_name.writelines(list_of_lines)"
   ]
  },
  {
   "cell_type": "markdown",
   "id": "93829285-bd8b-4b3e-b471-c3b0c57b7ca6",
   "metadata": {},
   "source": [
    "### As per the syntax, the list of strings that is passed to the writelines() function is written into the opened file. Similar to the write() function, the writelines() function does not add a newline character(\\n) to the end of the string.\n",
    "\n",
    "### Example:"
   ]
  },
  {
   "cell_type": "code",
   "execution_count": null,
   "id": "c105e892-2516-4b51-95eb-56bd732635fe",
   "metadata": {},
   "outputs": [],
   "source": [
    "file1 = open(\"Employees.txt\", \"w\")\n",
    "lst = []\n",
    "for i in range(3):\n",
    "\tname = input(\"Enter the name of the employee: \")\n",
    "\tlst.append(name + '\\n')\n",
    "\t\n",
    "file1.writelines(lst)\n",
    "file1.close()\n",
    "print(\"Data is written into the file.\")\n"
   ]
  },
  {
   "cell_type": "code",
   "execution_count": null,
   "id": "cad9d5c5-2877-4494-bdd9-8e35923b5864",
   "metadata": {},
   "outputs": [],
   "source": []
  }
 ],
 "metadata": {
  "kernelspec": {
   "display_name": "Python 3 (ipykernel)",
   "language": "python",
   "name": "python3"
  },
  "language_info": {
   "codemirror_mode": {
    "name": "ipython",
    "version": 3
   },
   "file_extension": ".py",
   "mimetype": "text/x-python",
   "name": "python",
   "nbconvert_exporter": "python",
   "pygments_lexer": "ipython3",
   "version": "3.10.8"
  }
 },
 "nbformat": 4,
 "nbformat_minor": 5
}
