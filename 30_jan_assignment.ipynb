{
 "cells": [
  {
   "cell_type": "markdown",
   "id": "302428db-5c89-4725-b5b1-3cdf560c9f53",
   "metadata": {},
   "source": [
    "### 1."
   ]
  },
  {
   "cell_type": "code",
   "execution_count": 4,
   "id": "cea1000f-f2e6-47dd-8eff-2ab5823676eb",
   "metadata": {},
   "outputs": [
    {
     "name": "stdin",
     "output_type": "stream",
     "text": [
      "enter the marks 67\n"
     ]
    },
    {
     "name": "stdout",
     "output_type": "stream",
     "text": [
      "your grade is C\n"
     ]
    }
   ],
   "source": [
    "marks=int(input(\"enter the marks\"))\n",
    "if marks>90:\n",
    "    print(\"your grade is A\")\n",
    "elif marks>80 and marks<=90:\n",
    "    print(\"your grade is B\")\n",
    "elif marks>=60 and marks<=80:\n",
    "    print(\"your grade is C\")\n",
    "elif marks<60:\n",
    "    print(\"your grade is D\")"
   ]
  },
  {
   "cell_type": "markdown",
   "id": "f0066eb5-59d4-41c5-8431-da42376bddaf",
   "metadata": {},
   "source": [
    "### 2."
   ]
  },
  {
   "cell_type": "code",
   "execution_count": 13,
   "id": "b6c5f223-09e1-4013-a822-048ee65235cc",
   "metadata": {},
   "outputs": [
    {
     "name": "stdin",
     "output_type": "stream",
     "text": [
      "enter the cost price of bike 70000\n"
     ]
    },
    {
     "name": "stdout",
     "output_type": "stream",
     "text": [
      "the road tax to be paid is Rs.7000.0\n"
     ]
    }
   ],
   "source": [
    "cost_price=int(input(\"enter the cost price of bike\"))\n",
    "if cost_price>100000:\n",
    "               print(\"the road tax to be paid is Rs.{}\".format(cost_price*0.15))\n",
    "elif cost_price>50000 and cost_price<=100000:\n",
    "    print(\"the road tax to be paid is Rs.{}\".format(cost_price*0.10))\n",
    "elif cost_price<=50000:\n",
    "    print(\"the road tax to be paid is Rs.{}\".format(cost_price*0.05))\n",
    "else:\n",
    "    print(\"enter a valid amount\")"
   ]
  },
  {
   "cell_type": "markdown",
   "id": "50ffcd95-7d28-4147-acb9-feba62841804",
   "metadata": {},
   "source": [
    "### 3."
   ]
  },
  {
   "cell_type": "code",
   "execution_count": 24,
   "id": "cfe87eb3-d181-4cbc-8268-82933373eb9c",
   "metadata": {},
   "outputs": [
    {
     "name": "stdin",
     "output_type": "stream",
     "text": [
      "enter the name of your city delhi\n"
     ]
    },
    {
     "name": "stdout",
     "output_type": "stream",
     "text": [
      "monument of your city is Red Fort\n"
     ]
    }
   ],
   "source": [
    "city=input(\"enter the name of your city\")\n",
    "if city==\"delhi\":\n",
    "    print(\"monument of your city is Red Fort\")\n",
    "if city==\"agra\":\n",
    "    print(\"monument of your city is Taj Mahal\")\n",
    "if city==\"jaipur\":\n",
    "    print(\"monument of your city is Jal Mahal\")\n"
   ]
  },
  {
   "cell_type": "markdown",
   "id": "26e3f00d-473e-472a-b208-731b77715e56",
   "metadata": {},
   "source": [
    "### 4. "
   ]
  },
  {
   "cell_type": "code",
   "execution_count": 28,
   "id": "8789633d-810c-45e5-a790-71ea1d9d2c87",
   "metadata": {},
   "outputs": [
    {
     "name": "stdin",
     "output_type": "stream",
     "text": [
      "Enter the numbers 3\n"
     ]
    },
    {
     "name": "stdout",
     "output_type": "stream",
     "text": [
      "0\n"
     ]
    }
   ],
   "source": [
    "num = int(input(\"Enter the numbers\"))\n",
    "count = 0\n",
    "while num > 10:\n",
    "    num = num / 3\n",
    "    count += 1\n",
    "print(count)"
   ]
  },
  {
   "cell_type": "markdown",
   "id": "f2627989-e707-4ca9-a2ce-85e032ab6450",
   "metadata": {},
   "source": [
    "### 5. "
   ]
  },
  {
   "cell_type": "markdown",
   "id": "3659efae-add9-49d4-a92d-5eb7c8e297d8",
   "metadata": {},
   "source": [
    "### Python while loop is used to run a block code until a certain condition is met.\n",
    "\n",
    "Python While Loop is used to execute a block of statements repeatedly until a given condition is satisfied. And when the condition becomes false, the line immediately after the loop in the program is executed.\n",
    "\n",
    "While loop falls under the category of indefinite iteration. Indefinite iteration means that the number of times the loop is executed isn’t specified explicitly in advance. \n",
    "\n",
    "Statements represent all the statements indented by the same number of character spaces after a programming construct are considered to be part of a single block of code. Python uses indentation as its method of grouping statements. When a while loop is executed, expr is first evaluated in a Boolean context and if it is true, the loop body is executed. Then the expr is checked again, if it is still true then the body is executed again and this continues until the expression becomes false."
   ]
  },
  {
   "cell_type": "markdown",
   "id": "d1e4fb9b-8794-40bd-b57a-63a8682f4a81",
   "metadata": {},
   "source": [
    "### 6. "
   ]
  },
  {
   "cell_type": "code",
   "execution_count": 1,
   "id": "4905d060-6245-43a5-9fba-4cc47e999bfa",
   "metadata": {},
   "outputs": [
    {
     "name": "stdout",
     "output_type": "stream",
     "text": [
      "*\n",
      "**\n",
      "***\n",
      "****\n",
      "*****\n",
      "-----\n",
      "*****\n",
      "****\n",
      "***\n",
      "**\n",
      "*\n",
      "-----\n",
      "    *\n",
      "   **\n",
      "  ***\n",
      " ****\n",
      "*****\n"
     ]
    }
   ],
   "source": [
    "# Pattern 1:\n",
    "i = 1\n",
    "while i <= 5:\n",
    "    j = 1\n",
    "    while j <= i:\n",
    "        print(\"*\", end=\"\")\n",
    "        j += 1\n",
    "    print(\"\")\n",
    "    i += 1\n",
    "    \n",
    "print(\"-----\")\n",
    "# Pattern 2:\n",
    "i = 5\n",
    "while i >= 1:\n",
    "    j = i\n",
    "    while j >= 1:\n",
    "        print(\"*\", end=\"\")\n",
    "        j -= 1\n",
    "    print(\"\")\n",
    "    i -= 1\n",
    "\n",
    "print(\"-----\")\n",
    "# Pattern 3:\n",
    "i = 5\n",
    "while i >= 1:\n",
    "    j = 1\n",
    "    while j <= 5:\n",
    "        if j >= i:\n",
    "            print(\"*\", end=\"\")\n",
    "        else:\n",
    "            print(\" \", end=\"\")\n",
    "        j += 1\n",
    "    print(\"\")\n",
    "    i -= 1"
   ]
  },
  {
   "cell_type": "markdown",
   "id": "91434603-aad9-4b32-aa43-441db6fb3c24",
   "metadata": {},
   "source": [
    "### 7."
   ]
  },
  {
   "cell_type": "code",
   "execution_count": 2,
   "id": "317995aa-9140-452a-a644-a5d3442ec09d",
   "metadata": {},
   "outputs": [
    {
     "name": "stdout",
     "output_type": "stream",
     "text": [
      "10\n",
      "9\n",
      "8\n",
      "7\n",
      "6\n",
      "5\n",
      "4\n",
      "3\n",
      "2\n",
      "1\n"
     ]
    }
   ],
   "source": [
    "i = 10\n",
    "while i > 0:\n",
    "    print(i)\n",
    "    i = i - 1"
   ]
  },
  {
   "cell_type": "code",
   "execution_count": null,
   "id": "3e0ec1ca-dc8f-433e-8d88-a4508cf00feb",
   "metadata": {},
   "outputs": [],
   "source": []
  }
 ],
 "metadata": {
  "kernelspec": {
   "display_name": "Python 3 (ipykernel)",
   "language": "python",
   "name": "python3"
  },
  "language_info": {
   "codemirror_mode": {
    "name": "ipython",
    "version": 3
   },
   "file_extension": ".py",
   "mimetype": "text/x-python",
   "name": "python",
   "nbconvert_exporter": "python",
   "pygments_lexer": "ipython3",
   "version": "3.10.8"
  }
 },
 "nbformat": 4,
 "nbformat_minor": 5
}
