{
 "cells": [
  {
   "cell_type": "markdown",
   "id": "40e3216c-b9e0-44af-a2bf-7277d392cd3c",
   "metadata": {},
   "source": [
    "### Q1. What is multiprocessing in python? Why is it useful?"
   ]
  },
  {
   "cell_type": "markdown",
   "id": "d3b2d1b8-a90b-4e97-b280-673a62ac60b5",
   "metadata": {},
   "source": [
    "### A: Multiprocessing in Python is a built-in package that allows the system to run multiple processes simultaneously. It will enable the breaking of applications into smaller threads that can run independently. The operating system can then allocate all these threads or processes to the processor to run them parallelly, thus improving the overall performance and efficiency."
   ]
  },
  {
   "cell_type": "markdown",
   "id": "5f973a77-3ee5-481a-bb82-304927d7f1a6",
   "metadata": {},
   "source": [
    "### Performing multiple operations for a single processor becomes challenging. As the number of processes keeps increasing, the processor will have to halt the current process and move to the next, to keep them going. Thus, it will have to interrupt each task, thereby hampering the performance.\n",
    "\n",
    "### You can think of it as an employee in an organization tasked to perform jobs in multiple departments. If the employee has to manage the sales, accounts, and even the backend, he will have to stop sales when he is into accounts and vice versa.\n",
    "\n",
    "### Suppose there are different employees, each to perform a specific task. It becomes simpler, right? That’s why multiprocessing in Python becomes essential. The smaller task threads act like different employees, making it easier to handle and manage various processes. A multiprocessing system can be represented as:"
   ]
  },
  {
   "cell_type": "markdown",
   "id": "5df88ae5-e732-4f1e-929b-0e0ad4dad9ba",
   "metadata": {},
   "source": [
    "* A system with more than a single central processor\n",
    "* A multi-core processor, i.e., a single computing unit with multiple independent core processing units\n",
    "### In multiprocessing, the system can divide and assign tasks to different processors."
   ]
  },
  {
   "cell_type": "markdown",
   "id": "b57e8ca8-c1be-4038-a74c-2ae80ab69403",
   "metadata": {},
   "source": [
    "### Q2. What are the differences between multiprocessing and multithreading?"
   ]
  },
  {
   "cell_type": "markdown",
   "id": "6175f2aa-08bc-4b51-b22a-dba0b13b4ad8",
   "metadata": {},
   "source": [
    "### A: \n",
    "* Multithreading is a technique where multiple threads are spawned by a process to do different tasks, at about the same time, just one after the other. This gives you the illusion that the threads are running in parallel, but they are actually run in a concurrent manner. In Python, the Global Interpreter Lock (GIL) prevents the threads from running simultaneously.\n",
    "* Multiprocessing is a technique where parallelism in its truest form is achieved. Multiple processes are run across multiple CPU cores, which do not share the resources among them. Each process can have many threads running in its own memory space. In Python, each process has its own instance of Python interpreter doing the job of executing the instructions."
   ]
  },
  {
   "cell_type": "markdown",
   "id": "0ee01cb1-bca3-4224-8ad5-88aeffb6c86a",
   "metadata": {},
   "source": [
    "### Q3. Write a python code to create a process using the multiprocessing module."
   ]
  },
  {
   "cell_type": "code",
   "execution_count": 1,
   "id": "01e8a728-609b-4d72-8e89-66147fd73569",
   "metadata": {},
   "outputs": [
    {
     "name": "stdout",
     "output_type": "stream",
     "text": [
      "Square: 100\n",
      "Cube: 1000\n",
      "Done!\n"
     ]
    }
   ],
   "source": [
    "# importing the multiprocessing module\n",
    "import multiprocessing\n",
    "\n",
    "def print_cube(num):\n",
    "\t\"\"\"\n",
    "\tfunction to print cube of given num\n",
    "\t\"\"\"\n",
    "\tprint(\"Cube: {}\".format(num * num * num))\n",
    "\n",
    "def print_square(num):\n",
    "\t\"\"\"\n",
    "\tfunction to print square of given num\n",
    "\t\"\"\"\n",
    "\tprint(\"Square: {}\".format(num * num))\n",
    "\n",
    "if __name__ == \"__main__\":\n",
    "\t# creating processes\n",
    "\tp1 = multiprocessing.Process(target=print_square, args=(10, ))\n",
    "\tp2 = multiprocessing.Process(target=print_cube, args=(10, ))\n",
    "\n",
    "\t# starting process 1\n",
    "\tp1.start()\n",
    "\t# starting process 2\n",
    "\tp2.start()\n",
    "\n",
    "\t# wait until process 1 is finished\n",
    "\tp1.join()\n",
    "\t# wait until process 2 is finished\n",
    "\tp2.join()\n",
    "\n",
    "\t# both processes finished\n",
    "\tprint(\"Done!\")\n"
   ]
  },
  {
   "cell_type": "markdown",
   "id": "c385f866-bba4-4072-a30f-02e443d4329d",
   "metadata": {},
   "source": [
    "### Q4. What is a multiprocessing pool in python? Why is it used?"
   ]
  },
  {
   "cell_type": "markdown",
   "id": "106c37a2-b5e3-4f9f-8a49-39e286cb21f8",
   "metadata": {},
   "source": [
    "### A:"
   ]
  },
  {
   "cell_type": "markdown",
   "id": "ecf325ca-41b9-4842-bc60-439d280dcc5c",
   "metadata": {},
   "source": [
    "### Python multiprocessing Pool can be used for parallel execution of a function across multiple input values, distributing the input data across processes (data parallelism). Below is a simple Python multiprocessing Pool example."
   ]
  },
  {
   "cell_type": "code",
   "execution_count": 2,
   "id": "3dab7edb-89cd-41ad-8ad8-23f7d071fcfa",
   "metadata": {},
   "outputs": [
    {
     "name": "stdout",
     "output_type": "stream",
     "text": [
      " Process A waiting 5 seconds Process B waiting 2 seconds\n",
      "\n",
      " Process B Finished.\n",
      " Process C waiting 1 seconds\n",
      " Process C Finished.\n",
      " Process D waiting 3 seconds\n",
      " Process A Finished.\n",
      " Process D Finished.\n"
     ]
    }
   ],
   "source": [
    "from multiprocessing import Pool\n",
    "\n",
    "import time\n",
    "\n",
    "work = ([\"A\", 5], [\"B\", 2], [\"C\", 1], [\"D\", 3])\n",
    "\n",
    "\n",
    "def work_log(work_data):\n",
    "    print(\" Process %s waiting %s seconds\" % (work_data[0], work_data[1]))\n",
    "    time.sleep(int(work_data[1]))\n",
    "    print(\" Process %s Finished.\" % work_data[0])\n",
    "\n",
    "\n",
    "def pool_handler():\n",
    "    p = Pool(2)\n",
    "    p.map(work_log, work)\n",
    "\n",
    "\n",
    "if __name__ == '__main__':\n",
    "    pool_handler()"
   ]
  },
  {
   "cell_type": "markdown",
   "id": "5bd74178-5070-48f0-8874-a66653eb1458",
   "metadata": {},
   "source": [
    "### Q5. How can we create a pool of worker processes in python using the multiprocessing module?"
   ]
  },
  {
   "cell_type": "markdown",
   "id": "ca9c681d-5878-4997-9b2f-5208e66c8860",
   "metadata": {},
   "source": [
    "### A:"
   ]
  },
  {
   "cell_type": "markdown",
   "id": "c462b69d-0bea-4ece-8912-ea9508816387",
   "metadata": {},
   "source": [
    "### Q6. Write a python program to create 4 processes, each process should print a different number using the multiprocessing module in python."
   ]
  },
  {
   "cell_type": "markdown",
   "id": "6af28680-2679-4534-9b35-23e5052fba71",
   "metadata": {},
   "source": [
    "### A:"
   ]
  },
  {
   "cell_type": "code",
   "execution_count": 3,
   "id": "8767c571-0b92-447c-aaeb-eeb39399ef43",
   "metadata": {},
   "outputs": [
    {
     "name": "stdout",
     "output_type": "stream",
     "text": [
      "ID of main process: 77\n",
      "ID of process running worker1: 1506\n",
      "ID of process running worker2: 1509\n",
      "ID of process p1: 1506\n",
      "ID of process p2: 1509\n",
      "Both processes finished execution!\n",
      "Process p1 is alive: False\n",
      "Process p2 is alive: False\n"
     ]
    }
   ],
   "source": [
    "# importing the multiprocessing module\n",
    "import multiprocessing\n",
    "import os\n",
    "\n",
    "def worker1():\n",
    "\t# printing process id\n",
    "\tprint(\"ID of process running worker1: {}\".format(os.getpid()))\n",
    "\n",
    "def worker2():\n",
    "\t# printing process id\n",
    "\tprint(\"ID of process running worker2: {}\".format(os.getpid()))\n",
    "\n",
    "if __name__ == \"__main__\":\n",
    "\t# printing main program process id\n",
    "\tprint(\"ID of main process: {}\".format(os.getpid()))\n",
    "\n",
    "\t# creating processes\n",
    "\tp1 = multiprocessing.Process(target=worker1)\n",
    "\tp2 = multiprocessing.Process(target=worker2)\n",
    "\n",
    "\t# starting processes\n",
    "\tp1.start()\n",
    "\tp2.start()\n",
    "\n",
    "\t# process IDs\n",
    "\tprint(\"ID of process p1: {}\".format(p1.pid))\n",
    "\tprint(\"ID of process p2: {}\".format(p2.pid))\n",
    "\n",
    "\t# wait until processes are finished\n",
    "\tp1.join()\n",
    "\tp2.join()\n",
    "\n",
    "\t# both processes finished\n",
    "\tprint(\"Both processes finished execution!\")\n",
    "\n",
    "\t# check if processes are alive\n",
    "\tprint(\"Process p1 is alive: {}\".format(p1.is_alive()))\n",
    "\tprint(\"Process p2 is alive: {}\".format(p2.is_alive()))\n"
   ]
  },
  {
   "cell_type": "code",
   "execution_count": null,
   "id": "d1bc66ae-de9d-43d0-9320-95fc37f31f0e",
   "metadata": {},
   "outputs": [],
   "source": []
  }
 ],
 "metadata": {
  "kernelspec": {
   "display_name": "Python 3 (ipykernel)",
   "language": "python",
   "name": "python3"
  },
  "language_info": {
   "codemirror_mode": {
    "name": "ipython",
    "version": 3
   },
   "file_extension": ".py",
   "mimetype": "text/x-python",
   "name": "python",
   "nbconvert_exporter": "python",
   "pygments_lexer": "ipython3",
   "version": "3.10.8"
  }
 },
 "nbformat": 4,
 "nbformat_minor": 5
}
