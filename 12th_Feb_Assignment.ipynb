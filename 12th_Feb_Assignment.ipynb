{
 "cells": [
  {
   "cell_type": "markdown",
   "id": "0b7f9e10-6541-4718-9746-41894ca97b84",
   "metadata": {},
   "source": [
    "### Q1. What is an exception in python? write the difference between exceptions and syntax errors."
   ]
  },
  {
   "cell_type": "markdown",
   "id": "015f9917-a951-4640-b428-dcb602129527",
   "metadata": {},
   "source": [
    "### A: Even if a statement or expression is syntactically correct, it may cause an error when an attempt is made to execute it. Errors detected during execution are called exceptions and are not unconditionally fatal.\n",
    "###  Example:"
   ]
  },
  {
   "cell_type": "raw",
   "id": "155bc2fd-d7a3-4e97-b524-42233032cd84",
   "metadata": {},
   "source": [
    "10 * (1/0)\n",
    "Traceback (most recent call last):\n",
    "  File \"<stdin>\", line 1, in <module>\n",
    "ZeroDivisionError: division by zero\n",
    "4 + spam*3\n",
    "Traceback (most recent call last):\n",
    "  File \"<stdin>\", line 1, in <module>\n",
    "NameError: name 'spam' is not defined\n",
    "'2' + 2\n",
    "Traceback (most recent call last):\n",
    "  File \"<stdin>\", line 1, in <module>\n",
    "TypeError: can only concatenate str (not \"int\") to str"
   ]
  },
  {
   "cell_type": "markdown",
   "id": "807eff30-b406-433d-be1e-72f98d53ea41",
   "metadata": {},
   "source": [
    "### Difference between Syntax Error and Exceptions:"
   ]
  },
  {
   "cell_type": "markdown",
   "id": "1a6b7a7c-3906-496d-8938-e546300b974e",
   "metadata": {},
   "source": [
    "Syntax Error: As the name suggests this error is caused by the wrong syntax in the code. It leads to the termination of the program. \n",
    "\n",
    "Example:"
   ]
  },
  {
   "cell_type": "code",
   "execution_count": 1,
   "id": "d58b5b5f-d30b-4412-b121-fe580d0d1f9a",
   "metadata": {},
   "outputs": [
    {
     "ename": "SyntaxError",
     "evalue": "expected ':' (1406909703.py, line 6)",
     "output_type": "error",
     "traceback": [
      "\u001b[0;36m  Cell \u001b[0;32mIn[1], line 6\u001b[0;36m\u001b[0m\n\u001b[0;31m    if(amount > 2999)\u001b[0m\n\u001b[0m                     ^\u001b[0m\n\u001b[0;31mSyntaxError\u001b[0m\u001b[0;31m:\u001b[0m expected ':'\n"
     ]
    }
   ],
   "source": [
    "# initialize the amount variable\n",
    "amount = 10000\n",
    "\n",
    "# check that You are eligible to\n",
    "# purchase Dsa Self Paced or not\n",
    "if(amount > 2999)\n",
    "print(\"You are eligible to purchase Dsa Self Paced\")\n"
   ]
  },
  {
   "cell_type": "markdown",
   "id": "e7ac2b35-8ba1-48a4-a1c3-e0de6c49f200",
   "metadata": {},
   "source": [
    "Exceptions: Exceptions are raised when the program is syntactically correct, but the code results in an error. This error does not stop the execution of the program, however, it changes the normal flow of the program.\n",
    "\n",
    "Example:"
   ]
  },
  {
   "cell_type": "code",
   "execution_count": 2,
   "id": "9cd029ec-efb5-4e23-a6ab-0da29b299860",
   "metadata": {},
   "outputs": [
    {
     "ename": "ZeroDivisionError",
     "evalue": "division by zero",
     "output_type": "error",
     "traceback": [
      "\u001b[0;31m---------------------------------------------------------------------------\u001b[0m",
      "\u001b[0;31mZeroDivisionError\u001b[0m                         Traceback (most recent call last)",
      "Cell \u001b[0;32mIn[2], line 5\u001b[0m\n\u001b[1;32m      2\u001b[0m marks \u001b[38;5;241m=\u001b[39m \u001b[38;5;241m10000\u001b[39m\n\u001b[1;32m      4\u001b[0m \u001b[38;5;66;03m# perform division with 0\u001b[39;00m\n\u001b[0;32m----> 5\u001b[0m a \u001b[38;5;241m=\u001b[39m \u001b[43mmarks\u001b[49m\u001b[43m \u001b[49m\u001b[38;5;241;43m/\u001b[39;49m\u001b[43m \u001b[49m\u001b[38;5;241;43m0\u001b[39;49m\n\u001b[1;32m      6\u001b[0m \u001b[38;5;28mprint\u001b[39m(a)\n",
      "\u001b[0;31mZeroDivisionError\u001b[0m: division by zero"
     ]
    }
   ],
   "source": [
    "# initialize the amount variable\n",
    "marks = 10000\n",
    "\n",
    "# perform division with 0\n",
    "a = marks / 0\n",
    "print(a)\n"
   ]
  },
  {
   "cell_type": "markdown",
   "id": "860f223e-e59c-44f1-bf86-053631ff5d95",
   "metadata": {},
   "source": [
    "### Q2. What happens when an exception is not handled?Explain with an example."
   ]
  },
  {
   "cell_type": "markdown",
   "id": "4574511e-5176-4913-b8ad-df9a0070c1e3",
   "metadata": {},
   "source": [
    "### A: If exceptions are not handled, it drives the program into a halt state. Exception handling in python is required to prevent the program from terminating abruptly."
   ]
  },
  {
   "cell_type": "markdown",
   "id": "229d3beb-56d9-49e4-a73e-21770cb941c8",
   "metadata": {},
   "source": [
    "### An exception is a class in Python that represents an error. When an exception is raised during the execution of code, it disrupts the normal flow of the program and can lead to a halt state or even a crash. To avoid this, it's important to do Exception handling in Python in a way that allows the program to continue running even if an error occurs.\n",
    "\n",
    "### Exception handling in Python is achieved using the try and except blocks. The try block is used to enclose the code that may raise an exception, while the except block is used to handle the exception that may occur. If an exception is raised in the try block, the program jumps to the except block to handle it, instead of halting the program altogether."
   ]
  },
  {
   "cell_type": "markdown",
   "id": "e7d36b34-e518-4a03-a4bd-187743fc0727",
   "metadata": {},
   "source": [
    "### The basic syntax of a try-except block in Python is as follows:  "
   ]
  },
  {
   "cell_type": "markdown",
   "id": "c1521651-b081-4626-b33d-13c1e174d4d2",
   "metadata": {},
   "source": [
    "try:\n",
    "    # code that may raise an exception\n",
    "except:\n",
    "    # code to handle the exception\n"
   ]
  },
  {
   "cell_type": "markdown",
   "id": "07fe0912-5fd8-4dba-90d7-7b0f6284bb0c",
   "metadata": {},
   "source": [
    "### It's important to note that try and except blocks must be used together in order to handle exceptions properly. Writing just try or except blocks alone will result in an error.In addition, the except block can specify the type of exception that it wants to catch."
   ]
  },
  {
   "cell_type": "markdown",
   "id": "1266481d-dc13-4cde-bf82-3eddcbccafb6",
   "metadata": {},
   "source": [
    "### Q3. Which python statement are used to catch and handle exceptions?Explain with an example."
   ]
  },
  {
   "cell_type": "markdown",
   "id": "f084fa38-d61f-43d5-83f8-1804e77b04f5",
   "metadata": {},
   "source": [
    "### A: The try and except block in Python is used to catch and handle exceptions. Python executes code following the try statement as a “normal” part of the program. The code that follows the except statement is the program’s response to any exceptions in the preceding try clause."
   ]
  },
  {
   "cell_type": "markdown",
   "id": "cf117801-1cf7-4600-8d02-d0dd430de9aa",
   "metadata": {},
   "source": [
    "### The following function can help you understand the try and except block:\n",
    "\n"
   ]
  },
  {
   "cell_type": "code",
   "execution_count": null,
   "id": "72805cc0-8757-46dd-b516-bec3ff0c5950",
   "metadata": {},
   "outputs": [],
   "source": [
    "def linux_interaction():\n",
    "    assert ('linux' in sys.platform), \"Function can only run on Linux systems.\"\n",
    "    print('Doing something.')"
   ]
  },
  {
   "cell_type": "markdown",
   "id": "dcdb6d99-3f62-4358-a161-fbfa32d6fb5a",
   "metadata": {},
   "source": [
    "### The linux_interaction() can only run on a Linux system. The assert in this function will throw an AssertionError exception if you call it on an operating system other then Linux.\n",
    "\n",
    "### You can give the function a try using the following code:"
   ]
  },
  {
   "cell_type": "code",
   "execution_count": 4,
   "id": "7e883dce-d351-489a-b532-6809c4732cf6",
   "metadata": {},
   "outputs": [
    {
     "name": "stdout",
     "output_type": "stream",
     "text": [
      "Linux function was not executed\n"
     ]
    }
   ],
   "source": [
    "try:\n",
    "    linux_interaction()\n",
    "except:\n",
    "    print('Linux function was not executed')"
   ]
  },
  {
   "cell_type": "markdown",
   "id": "8b896fb8-a220-47bd-b418-c88963bc65f8",
   "metadata": {},
   "source": [
    "### When an exception occurs in a program running this function, the program will continue as well as inform you about the fact that the function call was not successful.\n",
    "\n",
    "### What you did not get to see was the type of error that was thrown as a result of the function call. In order to see exactly what went wrong, you would need to catch the error that the function threw.\n",
    "\n"
   ]
  },
  {
   "cell_type": "markdown",
   "id": "4385f01c-43e0-4e25-b722-3b07b7d64be2",
   "metadata": {},
   "source": [
    "### Q4. Explain with an Example:\n",
    "*       Try and else\n",
    "*       finally\n",
    "*       raise"
   ]
  },
  {
   "cell_type": "markdown",
   "id": "fe69bc51-5459-4c80-a755-57f9f109a610",
   "metadata": {},
   "source": [
    "### Try and else"
   ]
  },
  {
   "cell_type": "markdown",
   "id": "9ad212c2-315c-4319-af78-9fcf745e12b4",
   "metadata": {},
   "source": [
    "The code enters the else block only if the try clause does not raise an exception.\n",
    "\n",
    "Example: Else block will execute only when no exception occurs."
   ]
  },
  {
   "cell_type": "code",
   "execution_count": 5,
   "id": "d559d553-3b8a-4966-9edf-502690e5b293",
   "metadata": {},
   "outputs": [
    {
     "name": "stdout",
     "output_type": "stream",
     "text": [
      "Yeah ! Your answer is : 1\n",
      "Sorry ! You are dividing by zero \n"
     ]
    }
   ],
   "source": [
    "# Python code to illustrate\n",
    "# working of try()\n",
    "def divide(x, y):\n",
    "\ttry:\n",
    "\t\t# Floor Division : Gives only Fractional\n",
    "\t\t# Part as Answer\n",
    "\t\tresult = x // y\n",
    "\texcept ZeroDivisionError:\n",
    "\t\tprint(\"Sorry ! You are dividing by zero \")\n",
    "\telse:\n",
    "\t\tprint(\"Yeah ! Your answer is :\", result)\n",
    "\n",
    "# Look at parameters and note the working of Program\n",
    "divide(3, 2)\n",
    "divide(3, 0)\n"
   ]
  },
  {
   "cell_type": "markdown",
   "id": "aad949cd-7778-4a0c-8992-0ae09e0c5b80",
   "metadata": {},
   "source": [
    "### Finally"
   ]
  },
  {
   "cell_type": "markdown",
   "id": "cc1031c4-730f-432b-91b8-a9802df8bc3b",
   "metadata": {},
   "source": [
    "The finally keyword is used in try...except blocks. It defines a block of code to run when the try...except...else block is final.\n",
    "\n",
    "The finally block will be executed no matter if the try block raises an error or not.\n",
    "\n",
    "This can be useful to close objects and clean up resources.\n",
    "\n"
   ]
  },
  {
   "cell_type": "code",
   "execution_count": 6,
   "id": "3e85dc49-a6e5-41cb-8203-521962ae1960",
   "metadata": {},
   "outputs": [
    {
     "name": "stdout",
     "output_type": "stream",
     "text": [
      "Something went wrong\n",
      "The try...except block is finished\n"
     ]
    }
   ],
   "source": [
    "try:\n",
    "    x > 3\n",
    "except:\n",
    "    print(\"Something went wrong\")\n",
    "else:\n",
    "    print(\"Nothing went wrong\")\n",
    "finally:\n",
    "    print(\"The try...except block is finished\")"
   ]
  },
  {
   "cell_type": "markdown",
   "id": "a4d16be4-e50c-463c-9b2e-42b9316b3ebe",
   "metadata": {},
   "source": [
    "### Raise"
   ]
  },
  {
   "cell_type": "markdown",
   "id": "de105161-822c-43e6-be28-6d095509ec62",
   "metadata": {},
   "source": [
    "The raise keyword is used to raise an exception.\n",
    "\n",
    "You can define what kind of error to raise, and the text to print to the user."
   ]
  },
  {
   "cell_type": "markdown",
   "id": "e76e0f7b-504f-4c43-a0c1-988b22f922c3",
   "metadata": {},
   "source": [
    "Example\n",
    "Raise a TypeError if x is not an integer:"
   ]
  },
  {
   "cell_type": "code",
   "execution_count": 8,
   "id": "712f5f79-a260-4ccf-b1ca-56945bd3e0c1",
   "metadata": {},
   "outputs": [
    {
     "ename": "TypeError",
     "evalue": "Only integers are allowed",
     "output_type": "error",
     "traceback": [
      "\u001b[0;31m---------------------------------------------------------------------------\u001b[0m",
      "\u001b[0;31mTypeError\u001b[0m                                 Traceback (most recent call last)",
      "Cell \u001b[0;32mIn[8], line 4\u001b[0m\n\u001b[1;32m      1\u001b[0m x \u001b[38;5;241m=\u001b[39m \u001b[38;5;124m\"\u001b[39m\u001b[38;5;124mhello\u001b[39m\u001b[38;5;124m\"\u001b[39m\n\u001b[1;32m      3\u001b[0m \u001b[38;5;28;01mif\u001b[39;00m \u001b[38;5;129;01mnot\u001b[39;00m \u001b[38;5;28mtype\u001b[39m(x) \u001b[38;5;129;01mis\u001b[39;00m \u001b[38;5;28mint\u001b[39m:\n\u001b[0;32m----> 4\u001b[0m     \u001b[38;5;28;01mraise\u001b[39;00m \u001b[38;5;167;01mTypeError\u001b[39;00m(\u001b[38;5;124m\"\u001b[39m\u001b[38;5;124mOnly integers are allowed\u001b[39m\u001b[38;5;124m\"\u001b[39m)\n",
      "\u001b[0;31mTypeError\u001b[0m: Only integers are allowed"
     ]
    }
   ],
   "source": [
    "x = \"hello\"\n",
    "\n",
    "if not type(x) is int:\n",
    "    raise TypeError(\"Only integers are allowed\")"
   ]
  },
  {
   "cell_type": "markdown",
   "id": "0f07aec8-e5c9-43c6-9374-77936c72ca41",
   "metadata": {},
   "source": [
    "### Q5. What are custom exceptions in python? why do we need custom exceptions? Explain with an example."
   ]
  },
  {
   "cell_type": "markdown",
   "id": "35ca29b6-8aa5-4d08-acdf-5e8dfbfd74a4",
   "metadata": {},
   "source": [
    "### A: In Python, we can define custom exceptions by creating a new class that is derived from the built-in Exception class.\n",
    "\n",
    "### Here's the syntax to define custom exceptions,"
   ]
  },
  {
   "cell_type": "code",
   "execution_count": 9,
   "id": "3b342390-3349-4488-b523-66f4f809b530",
   "metadata": {},
   "outputs": [
    {
     "name": "stdin",
     "output_type": "stream",
     "text": [
      "Enter a number:  25\n"
     ]
    },
    {
     "name": "stdout",
     "output_type": "stream",
     "text": [
      "Eligible to Vote\n"
     ]
    }
   ],
   "source": [
    "# define Python user-defined exceptions\n",
    "class InvalidAgeException(Exception):\n",
    "    \"Raised when the input value is less than 18\"\n",
    "    pass\n",
    "\n",
    "# you need to guess this number\n",
    "number = 18\n",
    "\n",
    "try:\n",
    "    input_num = int(input(\"Enter a number: \"))\n",
    "    if input_num < number:\n",
    "        raise InvalidAgeException\n",
    "    else:\n",
    "        print(\"Eligible to Vote\")\n",
    "        \n",
    "except InvalidAgeException:\n",
    "    print(\"Exception occurred: Invalid Age\")"
   ]
  },
  {
   "cell_type": "markdown",
   "id": "7685a6d0-a22e-4099-a302-ed3f606adbbb",
   "metadata": {},
   "source": [
    "### Q6. Create a custom exception class. use this class to handle exception."
   ]
  },
  {
   "cell_type": "markdown",
   "id": "3f4116b6-5b57-4a86-a398-3c0464113e7f",
   "metadata": {},
   "source": [
    "### A: To raise the CustomException, you use the raise statement. For example, the following uses the raise statement to raise the CustomException:"
   ]
  },
  {
   "cell_type": "code",
   "execution_count": 10,
   "id": "677f656f-9571-4d45-a9ba-f02193fe583b",
   "metadata": {},
   "outputs": [
    {
     "name": "stdout",
     "output_type": "stream",
     "text": [
      "This is my custom exception\n"
     ]
    }
   ],
   "source": [
    "class CustomException(Exception):\n",
    "    \"\"\" my custom exception class \"\"\"\n",
    "\n",
    "\n",
    "try:\n",
    "    raise CustomException('This is my custom exception')\n",
    "except CustomException as ex:\n",
    "    print(ex)"
   ]
  },
  {
   "cell_type": "code",
   "execution_count": null,
   "id": "2d9292b7-8457-4cd1-98c2-7332450b5be6",
   "metadata": {},
   "outputs": [],
   "source": []
  }
 ],
 "metadata": {
  "kernelspec": {
   "display_name": "Python 3 (ipykernel)",
   "language": "python",
   "name": "python3"
  },
  "language_info": {
   "codemirror_mode": {
    "name": "ipython",
    "version": 3
   },
   "file_extension": ".py",
   "mimetype": "text/x-python",
   "name": "python",
   "nbconvert_exporter": "python",
   "pygments_lexer": "ipython3",
   "version": "3.10.8"
  }
 },
 "nbformat": 4,
 "nbformat_minor": 5
}
