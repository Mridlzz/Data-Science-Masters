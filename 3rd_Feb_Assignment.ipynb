{
 "cells": [
  {
   "cell_type": "markdown",
   "id": "6b28e56d-505a-4729-b29d-ec3945af3460",
   "metadata": {},
   "source": [
    "### Q1. Which keyword is used to create a function? Create a function to return a list of odd numbers in the range of 1 to 25."
   ]
  },
  {
   "cell_type": "markdown",
   "id": "d57b04cd-2784-421b-8126-e872bf5b4ae2",
   "metadata": {},
   "source": [
    "### A: The def keyword is used to create, (or define) a function."
   ]
  },
  {
   "cell_type": "code",
   "execution_count": 1,
   "id": "fc66405b-7306-4a7b-af47-349a77f13384",
   "metadata": {},
   "outputs": [
    {
     "name": "stdout",
     "output_type": "stream",
     "text": [
      "[1, 3, 5, 7, 9, 11, 13, 15, 17, 19, 21, 23, 25]\n"
     ]
    }
   ],
   "source": [
    "def odd_numbers(n):\n",
    "    return [x for x in range(n + 1) if x % 2 == 1]\n",
    "print(odd_numbers(25))"
   ]
  },
  {
   "cell_type": "markdown",
   "id": "73477532-e546-4dfb-ab2b-f4bc7e47e9d1",
   "metadata": {},
   "source": [
    "### Q2. Why *args and **kwargs is used in some functions? Create a function each for *args and **kwargs to demonstrate their use."
   ]
  },
  {
   "cell_type": "markdown",
   "id": "5a300f4a-41a6-4fdc-b722-69b8566392ad",
   "metadata": {},
   "source": [
    "### A: *args specifies the number of non-keyworded arguments that can be passed and the operations that can be performed on the function in Python whereas **kwargs is a variable number of keyworded arguments that can be passed to a function that can perform dictionary operations."
   ]
  },
  {
   "cell_type": "markdown",
   "id": "c7e10216-e3dd-45d1-9cde-344fd07fca89",
   "metadata": {},
   "source": [
    "### When we are writing Python code, functions are something that we cannot overlook. Functions are beneficial in removing the repetition of code and making it modular . Functions generally need some data to work on, and it can be in the form of strings, numbers, or even other functions. In the programming world, this data is referred to as arguments.A simple scenario where you will need functions is- Suppose you are running a website to design greeting cards. If you want to display a greeting message like “Hello name_of_user”, you must ask the user to input their name. You will then pass the input to a function that will display the greeting message.Sometimes it is possible that you can't predict the number of arguments that we will be providing to the function. This can cause the problem, and if you don’t know how to handle it, then you will end up getting stuck writing the same code for variable number of arguments."
   ]
  },
  {
   "cell_type": "markdown",
   "id": "c59aa548-0384-48f7-bdc9-93be5799bdc9",
   "metadata": {},
   "source": [
    "### *args in Python"
   ]
  },
  {
   "cell_type": "markdown",
   "id": "1ba1c2e1-a151-4e84-8d12-f19fbe289ca4",
   "metadata": {},
   "source": [
    "### We can use args to solve this problem in a simple and flexible piece of code-"
   ]
  },
  {
   "cell_type": "code",
   "execution_count": 2,
   "id": "56a9b159-aea3-4258-8aaa-1b0081363904",
   "metadata": {},
   "outputs": [
    {
     "name": "stdout",
     "output_type": "stream",
     "text": [
      "Hello\n",
      "Welcome\n",
      "to\n",
      "PwSkills\n"
     ]
    }
   ],
   "source": [
    "def myFun(*argv):\n",
    "    for arg in argv:\n",
    "        print(arg)\n",
    "\n",
    "myFun('Hello', 'Welcome', 'to', 'PwSkills')"
   ]
  },
  {
   "cell_type": "markdown",
   "id": "2665e31b-767e-48aa-8b33-c875e288d0c6",
   "metadata": {},
   "source": [
    "### **Kwargs in python"
   ]
  },
  {
   "cell_type": "markdown",
   "id": "98ffa908-5fd0-4be2-9a5f-76fee19e1fa4",
   "metadata": {},
   "source": [
    "### Python program to illustrate *kwargs for a variable number of keyword arguments. Here **kwargs accept keyworded variable-length argument passed by the function call. for first=’Geeks’ first is key and ‘Geeks’ is a value. in simple words, what we assign is value, and to whom we assign is key. "
   ]
  },
  {
   "cell_type": "code",
   "execution_count": 3,
   "id": "e103f054-04ea-4b04-af62-6a0f02e7b733",
   "metadata": {},
   "outputs": [
    {
     "name": "stdout",
     "output_type": "stream",
     "text": [
      "first == Geeks\n",
      "mid == for\n",
      "last == Geeks\n"
     ]
    }
   ],
   "source": [
    "def myFun(**kwargs):\n",
    "    for key, value in kwargs.items():\n",
    "        print(\"%s == %s\" % (key, value))\n",
    "  \n",
    "  \n",
    "# Driver code\n",
    "myFun(first='Geeks', mid='for', last='Geeks')"
   ]
  },
  {
   "cell_type": "markdown",
   "id": "3d8fc8e0-0237-45c0-b4ba-5a99d1438a09",
   "metadata": {},
   "source": [
    "### Q3. What is an iterator in python? Name the method used to initialise the iterator object and the method used for iteration. Use these methods to print the first five elements of the given list [2, 4, 6, 8, 10, 12, 14, 16,18, 20]."
   ]
  },
  {
   "cell_type": "markdown",
   "id": "6349dc45-05dc-4b87-adda-7c5565d4df54",
   "metadata": {},
   "source": [
    "### A: "
   ]
  },
  {
   "cell_type": "markdown",
   "id": "b4a5be15-bcb2-44b4-ac6f-cdba587a0a4a",
   "metadata": {},
   "source": [
    "### Q4: What is a generator function in python? Why yield keyword is used? Give an example of a generator function."
   ]
  },
  {
   "cell_type": "markdown",
   "id": "0646f3ae-0e82-41d4-8f7a-bda95abe52f6",
   "metadata": {},
   "source": [
    "### A: In Python, a generator is a function that returns an iterator that produces a sequence of values when iterated over.Generators are useful when we want to produce a large sequence of values, but we don't want to store all of them in memory at once.\n",
    "\n"
   ]
  },
  {
   "cell_type": "markdown",
   "id": "49957935-dd68-4270-8a4f-f3ae75b97770",
   "metadata": {},
   "source": [
    "### the yield keyword is used to produce a value from the generator.When the generator function is called, it does not execute the function body immediately. Instead, it returns a generator object that can be iterated over to produce the values."
   ]
  },
  {
   "cell_type": "code",
   "execution_count": 9,
   "id": "75ecccd1-644d-4356-b35c-24c995e6abb0",
   "metadata": {},
   "outputs": [
    {
     "name": "stdout",
     "output_type": "stream",
     "text": [
      "0\n",
      "1\n",
      "2\n"
     ]
    }
   ],
   "source": [
    "def my_generator(n):\n",
    "\n",
    "    # initialize counter\n",
    "    value = 0\n",
    "\n",
    "    # loop until counter is less than n\n",
    "    while value < n:\n",
    "\n",
    "        # produce the current value of the counter\n",
    "        yield value\n",
    "\n",
    "        # increment the counter\n",
    "        value += 1\n",
    "\n",
    "# iterate over the generator object produced by my_generator\n",
    "for value in my_generator(3):\n",
    "\n",
    "    # print each value produced by generator\n",
    "    print(value)"
   ]
  },
  {
   "cell_type": "markdown",
   "id": "a03efff7-c368-4c2e-8961-b4216c2bd3a3",
   "metadata": {},
   "source": [
    "### Q5. Create a generator function for prime numbers less than 1000. Use the next() method to print the first 20 prime numbers."
   ]
  },
  {
   "cell_type": "code",
   "execution_count": 18,
   "id": "bbfb85d3-fa2b-4754-bcaa-0ad0631f5092",
   "metadata": {},
   "outputs": [
    {
     "name": "stdin",
     "output_type": "stream",
     "text": [
      "Enter range: 20\n"
     ]
    },
    {
     "name": "stdout",
     "output_type": "stream",
     "text": [
      "Prime numbers: 1 2 3 5 7 11 13 17 19 "
     ]
    }
   ],
   "source": [
    "numr=int(input(\"Enter range:\"))\n",
    "\n",
    "print(\"Prime numbers:\",end=' ')\n",
    "\n",
    "for n in range(1,numr):\n",
    "\n",
    "    for i in range(2,n):\n",
    "\n",
    "        if(n%i==0):\n",
    "\n",
    "            break\n",
    "\n",
    "    else:\n",
    "\n",
    "        print(n,end=' ')"
   ]
  },
  {
   "cell_type": "code",
   "execution_count": null,
   "id": "9e661326-516b-4f1a-9075-5108c38299c0",
   "metadata": {},
   "outputs": [],
   "source": []
  }
 ],
 "metadata": {
  "kernelspec": {
   "display_name": "Python 3 (ipykernel)",
   "language": "python",
   "name": "python3"
  },
  "language_info": {
   "codemirror_mode": {
    "name": "ipython",
    "version": 3
   },
   "file_extension": ".py",
   "mimetype": "text/x-python",
   "name": "python",
   "nbconvert_exporter": "python",
   "pygments_lexer": "ipython3",
   "version": "3.10.8"
  }
 },
 "nbformat": 4,
 "nbformat_minor": 5
}
