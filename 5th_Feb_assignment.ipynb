{
 "cells": [
  {
   "cell_type": "markdown",
   "id": "6606a488-6b90-4c1e-8491-a4fbf8f118be",
   "metadata": {},
   "source": [
    "### Q1. Explain Class and Object with respect to Object-Oriented Programming. Give a suitable example."
   ]
  },
  {
   "cell_type": "markdown",
   "id": "9045d797-6c73-42df-8d25-f472ac761926",
   "metadata": {},
   "source": [
    "### A: An object is simply a collection of data (variables) and methods (functions). Similarly, a class is a blueprint for that object.\n",
    "\n",
    "### Python Class:\n",
    "### We use the class keyword to create a class in Python. For example,"
   ]
  },
  {
   "cell_type": "code",
   "execution_count": null,
   "id": "9b636512-3cb9-479b-b2ac-61f02a883713",
   "metadata": {},
   "outputs": [],
   "source": [
    "class Bike:\n",
    "    name = \"\"\n",
    "    gear = 0"
   ]
  },
  {
   "cell_type": "markdown",
   "id": "a4e951f6-9f34-4ccd-add8-7dc20ec00fe4",
   "metadata": {},
   "source": [
    "### Here,\n",
    "\n",
    "### Bike - the name of the class\n",
    "### name/gear - variables inside the class with default values \"\" and 0 respectively."
   ]
  },
  {
   "cell_type": "markdown",
   "id": "60cd4bcc-7688-48b5-afc3-d9771478ca48",
   "metadata": {},
   "source": [
    "### Python Objects:"
   ]
  },
  {
   "cell_type": "markdown",
   "id": "4f3ecf70-31f6-4043-bb81-d9634ab9837b",
   "metadata": {},
   "source": [
    "### An object is called an instance of a class. For example, suppose Bike is a class then we can create objects like bike1, bike2, etc from the class. Let's see an example,"
   ]
  },
  {
   "cell_type": "code",
   "execution_count": null,
   "id": "3429534e-4663-4bb2-92ac-c86afe55cc4a",
   "metadata": {},
   "outputs": [],
   "source": [
    "# create class\n",
    "class Bike:\n",
    "    name = \"\"\n",
    "    gear = 0\n",
    "\n",
    "# create objects of class\n",
    "bike1 = Bike()"
   ]
  },
  {
   "cell_type": "markdown",
   "id": "5def9c5b-e653-4694-a233-4a9162f7e592",
   "metadata": {},
   "source": [
    "### Here, bike1 is the object of the class. Now, we can use this object to access the class attributes.\n",
    "\n"
   ]
  },
  {
   "cell_type": "markdown",
   "id": "f70c65d4-431a-41a5-bcce-2050b8df7710",
   "metadata": {},
   "source": [
    "### Q2. Name the four pillars of OOPs."
   ]
  },
  {
   "cell_type": "markdown",
   "id": "2db07d3e-043e-4075-83c3-5e6480a10afe",
   "metadata": {},
   "source": [
    "### A: Four Pillars of OOPs\n",
    "*      Encapsulation\n",
    "*      Inheritance\n",
    "*      Polymorphism\n",
    "*      Abstraction"
   ]
  },
  {
   "cell_type": "markdown",
   "id": "73d1893a-39c8-44ce-9b0b-882c4aaf3e7e",
   "metadata": {},
   "source": [
    "### Q3. Explain why the __init__() function is used. Give a suitable example."
   ]
  },
  {
   "cell_type": "markdown",
   "id": "37c2c68b-947d-47a8-8d6b-f9238fc3c980",
   "metadata": {},
   "source": [
    "### A: To understand the meaning of classes we have to understand the built-in __init__() function.\n",
    "\n",
    "### All classes have a function called __init__(), which is always executed when the class is being initiated.\n",
    "\n",
    "### Use the __init__() function to assign values to object properties, or other operations that are necessary to do when the object is being created:\n",
    "\n",
    "### Example:"
   ]
  },
  {
   "cell_type": "code",
   "execution_count": null,
   "id": "333731de-a2fe-4886-9ba9-7c80a6697a5e",
   "metadata": {},
   "outputs": [],
   "source": [
    "class Person:\n",
    "    def __init__(self, name, age):\n",
    "    self.name = name\n",
    "    self.age = age\n",
    "\n",
    "p1 = Person(\"John\", 36)\n",
    "\n",
    "print(p1.name)\n",
    "print(p1.age)"
   ]
  },
  {
   "cell_type": "markdown",
   "id": "b3860e2b-80a4-4f58-a5b0-39fb8f6aa95a",
   "metadata": {},
   "source": [
    "### Q4. Why self is used in OOPs?"
   ]
  },
  {
   "cell_type": "markdown",
   "id": "d327f4f5-755e-48be-b232-673425f3b861",
   "metadata": {},
   "source": [
    "### The self parameter is a reference to the current instance of the class, and is used to access variables that belongs to the class.It does not have to be named self , you can call it whatever you like, but it has to be the first parameter of any function in the class:\n",
    "\n",
    "### Example:"
   ]
  },
  {
   "cell_type": "code",
   "execution_count": 4,
   "id": "9c963f48-5d21-4690-91c2-947cf137cf22",
   "metadata": {},
   "outputs": [
    {
     "name": "stdout",
     "output_type": "stream",
     "text": [
      "Hello my name is John\n"
     ]
    }
   ],
   "source": [
    "#Use the words mysillyobject and abc instead of self:\n",
    "class Person:\n",
    "    def __init__(mysillyobject, name, age):\n",
    "        mysillyobject.name = name\n",
    "        mysillyobject.age = age\n",
    "\n",
    "    def myfunc(abc):\n",
    "        print(\"Hello my name is \" + abc.name)\n",
    "\n",
    "p1 = Person(\"John\", 36)\n",
    "p1.myfunc()"
   ]
  },
  {
   "cell_type": "markdown",
   "id": "5c5f8588-809b-433f-89ae-2ec522a1f1c2",
   "metadata": {},
   "source": [
    "### Q5. What is inheritance? Give an example for each type of inheritance."
   ]
  },
  {
   "cell_type": "markdown",
   "id": "91d9c57b-c7f7-419f-b34a-c50b7f087d58",
   "metadata": {},
   "source": [
    "### A: Inheritance allows us to define a class that inherits all the methods and properties from another class.Parent class is the class being inherited from, also called base class.Child class is the class that inherits from another class, also called derived class."
   ]
  },
  {
   "cell_type": "markdown",
   "id": "21678c72-27be-42d9-88c1-c26f68b0490e",
   "metadata": {},
   "source": [
    "### Parent Class:"
   ]
  },
  {
   "cell_type": "markdown",
   "id": "575e76e4-3442-45bf-ab33-16ff325d7d23",
   "metadata": {},
   "source": [
    "### Any class can be a parent class, so the syntax is the same as creating any other class:\n",
    "### Example:"
   ]
  },
  {
   "cell_type": "code",
   "execution_count": null,
   "id": "53975c51-ca17-4b58-b4a2-f11bb4e6f212",
   "metadata": {},
   "outputs": [],
   "source": [
    "class Person:\n",
    "    def __init__(self, fname, lname):\n",
    "    self.firstname = fname\n",
    "    self.lastname = lname\n",
    "\n",
    "    def printname(self):\n",
    "        print(self.firstname, self.lastname)\n",
    "\n",
    "#Use the Person class to create an object, and then execute the printname method:\n",
    "\n",
    "x = Person(\"John\", \"Doe\")\n",
    "x.printname()"
   ]
  },
  {
   "cell_type": "markdown",
   "id": "2004c1b9-993f-4b8c-a8ad-2f625cbfb995",
   "metadata": {},
   "source": [
    "### Child class:"
   ]
  },
  {
   "cell_type": "markdown",
   "id": "7d297b69-5337-4d9e-afe7-fcb7517079f6",
   "metadata": {},
   "source": [
    "### To create a class that inherits the functionality from another class, send the parent class as a parameter when creating the child class:\n",
    "### Example:"
   ]
  },
  {
   "cell_type": "code",
   "execution_count": null,
   "id": "1261776b-8ed4-428e-a441-ae6688aead50",
   "metadata": {},
   "outputs": [],
   "source": [
    "x = Student(\"Mike\", \"Olsen\")\n",
    "x.printname()"
   ]
  },
  {
   "cell_type": "markdown",
   "id": "a632c0cd-c041-48b7-9e4a-518bc2a3407f",
   "metadata": {},
   "source": [
    "### Use the Student class to create an object, and then execute the printname method"
   ]
  },
  {
   "cell_type": "code",
   "execution_count": null,
   "id": "d485d196-897c-4ca1-bec0-a2e4e21fbbe5",
   "metadata": {},
   "outputs": [],
   "source": []
  }
 ],
 "metadata": {
  "kernelspec": {
   "display_name": "Python 3 (ipykernel)",
   "language": "python",
   "name": "python3"
  },
  "language_info": {
   "codemirror_mode": {
    "name": "ipython",
    "version": 3
   },
   "file_extension": ".py",
   "mimetype": "text/x-python",
   "name": "python",
   "nbconvert_exporter": "python",
   "pygments_lexer": "ipython3",
   "version": "3.10.8"
  }
 },
 "nbformat": 4,
 "nbformat_minor": 5
}
