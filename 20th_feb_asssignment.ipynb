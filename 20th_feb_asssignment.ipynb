{
 "cells": [
  {
   "cell_type": "markdown",
   "id": "d71818c5-854d-400c-95f5-12901c34016b",
   "metadata": {},
   "source": [
    "### Q1. Explain GET and POST methods."
   ]
  },
  {
   "cell_type": "markdown",
   "id": "c586da9c-69a4-4bab-9ba6-7f13b4d34d39",
   "metadata": {},
   "source": [
    "### A: GET: This method is used to retrieve data from the server. e.g In an eCommerce application, there is a search button to search for an item. after entering a keyword if we noticed, the keyword you searched for gets displayed in the URL. This request is used when the data is not sensitive."
   ]
  },
  {
   "cell_type": "markdown",
   "id": "32a0f81a-f4d5-4691-ba4d-cdebf6afb218",
   "metadata": {},
   "source": [
    "### POST: This method makes enables users to send data over to the server. e.g In any authentication-enabled application, the registration and login form is the best example for the post method. Whenever we enter Information and submit the data get transferred over to the POST request. And if we noticed, unlike get request there is no information will be ever displayed in the URL."
   ]
  },
  {
   "cell_type": "markdown",
   "id": "0c964231-b26d-41bd-bc27-fd2d60a36e15",
   "metadata": {},
   "source": [
    "### Q2. Why is request used in Flask?"
   ]
  },
  {
   "cell_type": "markdown",
   "id": "93d95ca8-6a1f-48ef-bfdf-76ad3e9af310",
   "metadata": {},
   "source": [
    "### In a Flask App, we have our own Webpage (Client) and a Server. The Server should process the data.  The Request, in Flask, is an object that contains all the data sent from the Client to Server. This data can be recovered using the GET/POST Methods. POST is used when your application expects user input to be received by command or an HTTP request, while GET gets all the information before it even has a chance for submission. Using both methods at once gives perfect freedom but still requires complex UI patterns like AJAX calls etc, with most common applications being frameworks where multiple forms are necessary such as Slack Webhooks, MailgunMailserver, and eCommerce Commerce Framework. With Flask-Request class instead, we don’t have any need anymore since this API allows us flexible handling of many other situations."
   ]
  },
  {
   "cell_type": "markdown",
   "id": "55084fec-839d-4bee-bb26-e62c7b792a6b",
   "metadata": {},
   "source": [
    "### Q3. Why is redirect() used in Flask?"
   ]
  },
  {
   "cell_type": "markdown",
   "id": "49424e60-f1cf-446b-95fc-ab2951085811",
   "metadata": {},
   "source": [
    "### Flask redirect is defined as a function or utility in Flask which allows developers to redirect users to a specified URL and assign a specified status code. When this function is called, a response object is returned, and the redirection happens to the target location with the status code. When a website is visited, server receives a request and after processing responds to the request with a three-digit code known as the HTTP code. In a programming world this status code that is returned as a response is known as Errors. Errors and redirect function goes hand in hand."
   ]
  },
  {
   "cell_type": "markdown",
   "id": "58eda31b-12f4-4ce8-b08d-94c227531d4d",
   "metadata": {},
   "source": [
    "### Q4. What are templates in Flask? Why is the render_template() function used?"
   ]
  },
  {
   "cell_type": "markdown",
   "id": "b5c0274b-a5b5-453b-a4c0-fe4eacbbd9f5",
   "metadata": {},
   "source": [
    "### Flask is a backend web framework based on the Python programming language. It basically allows creating web applications in a Pythonic syntax and concepts. With Flask, we can use Python libraries and tools in our web applications. Using Flask we can set up a webserver to load up some basic HTML templates along with Jinja2 templating syntax. In this article, we will see how we can render the HTML templates in Flask."
   ]
  },
  {
   "cell_type": "markdown",
   "id": "0837e492-5f42-4077-9a27-6f2331dc6560",
   "metadata": {},
   "source": [
    "### Q5. Create a simple API. Use Postman to test it. Attach the screenshot of the output in the Jupyter Notebook."
   ]
  },
  {
   "cell_type": "code",
   "execution_count": null,
   "id": "7c988bb2-cb61-44eb-a55a-4cda7d2b90a5",
   "metadata": {},
   "outputs": [],
   "source": [
    "from flask import Flask, jsonify, request\n",
    "\n",
    "app = Flask(__name__)\n",
    "\n",
    "# Define the company and employees data\n",
    "company = {'name': 'Acme Inc.', 'employees': [\n",
    "    {'name': 'Sarfraj', 'title': 'Data Scientist'},\n",
    "    {'name': 'Abhishek ', 'title': 'Web Developer'},\n",
    "    {'name': 'Faizan ', 'title': 'Sales Manager'}\n",
    "]}\n",
    "\n",
    "# Define a route to get the company name\n",
    "@app.route('/company/name', methods=['GET'])\n",
    "def get_company_name():\n",
    "    return jsonify({'name': company['name']})\n",
    "\n",
    "# Define a route to get the employees\n",
    "@app.route('/company/employees', methods=['GET'])\n",
    "def get_employees():\n",
    "    return jsonify({'employees': company['employees']})\n",
    "\n",
    "# Define a route to add an employee\n",
    "@app.route('/company/employees', methods=['POST'])\n",
    "def add_employee():\n",
    "    employee = request.get_json()\n",
    "    company['employees'].append(employee)\n",
    "    return jsonify({'employees': company['employees']})\n",
    "\n",
    "if __name__ == '__main__':\n",
    "    app.run(debug=True)"
   ]
  },
  {
   "cell_type": "markdown",
   "id": "47197639-c723-4607-8968-989cd1764fad",
   "metadata": {},
   "source": []
  }
 ],
 "metadata": {
  "kernelspec": {
   "display_name": "Python 3 (ipykernel)",
   "language": "python",
   "name": "python3"
  },
  "language_info": {
   "codemirror_mode": {
    "name": "ipython",
    "version": 3
   },
   "file_extension": ".py",
   "mimetype": "text/x-python",
   "name": "python",
   "nbconvert_exporter": "python",
   "pygments_lexer": "ipython3",
   "version": "3.10.8"
  }
 },
 "nbformat": 4,
 "nbformat_minor": 5
}
