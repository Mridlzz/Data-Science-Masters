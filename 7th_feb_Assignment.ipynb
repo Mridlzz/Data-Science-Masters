{
 "cells": [
  {
   "cell_type": "markdown",
   "id": "d595c0e8-d5f4-4982-a4e2-5c05bdf72fd3",
   "metadata": {},
   "source": [
    "### Q1. You are writing code for a company. The requirement of the company is that you create a python function that will check whether the password entered by the user is correct or not. The function should take the password as input and return the string “Valid Password” if the entered password follows the below-given password guidelines else it should return “Invalid Password”."
   ]
  },
  {
   "cell_type": "markdown",
   "id": "a8d6de16-cd8b-4ca6-b915-1b67314f7693",
   "metadata": {},
   "source": [
    "### Note: 1. The Password should contain at least two uppercase letters and at least two lowercase letters.\n",
    "### 2. The Password should contain at least a number and three special characters.\n",
    "### 3. The length of the password should be 10 characters long."
   ]
  },
  {
   "cell_type": "markdown",
   "id": "018f5108-3dd6-43bd-94af-32d705766d59",
   "metadata": {},
   "source": [
    "### A: "
   ]
  },
  {
   "cell_type": "code",
   "execution_count": 10,
   "id": "ef1a88e5-f16c-4ecf-8e55-6780be6e938e",
   "metadata": {},
   "outputs": [
    {
     "name": "stdin",
     "output_type": "stream",
     "text": [
      "Enter Your Password MRidl123#$%\n"
     ]
    },
    {
     "name": "stdout",
     "output_type": "stream",
     "text": [
      "Valid Password\n"
     ]
    }
   ],
   "source": [
    "l, u, p, d = 0, 0, 0, 0\n",
    "s = input(\"Enter Your Password\")\n",
    "if (len(s) >= 10):\n",
    "\tfor i in s:\n",
    "\n",
    "\t\t# counting lowercase alphabets\n",
    "\t\tif (i.islower()):\n",
    "\t\t\tl+=1\t\t\n",
    "\n",
    "\t\t# counting uppercase alphabets\n",
    "\t\tif (i.isupper()):\n",
    "\t\t\tu+=1\t\t\n",
    "\n",
    "\t\t# counting digits\n",
    "\t\tif (i.isdigit()):\n",
    "\t\t\td+=1\t\t\n",
    "\n",
    "\t\t# counting the mentioned special characters\n",
    "\t\tif(i=='@'or i=='$' or i=='_' or i=='!' or i=='#' or i=='%' or i=='&'):\n",
    "\t\t\tp+=1\t\t\n",
    "if (l>=2 and u>=2 and p>=3 and d>=1 and l+p+u+d==len(s)):\n",
    "\tprint(\"Valid Password\")\n",
    "else:\n",
    "\tprint(\"Invalid Password\")"
   ]
  },
  {
   "cell_type": "markdown",
   "id": "4ee9ef90-f177-431f-8af0-ca7fe5e5a926",
   "metadata": {},
   "source": [
    "### Q2. Solve the below-given questions using at least one of the following:\n",
    "*       Lambda function\n",
    "*       Filter function\n",
    "*       Map function\n",
    "*       List Comprehension"
   ]
  },
  {
   "cell_type": "raw",
   "id": "e7fbe289-da32-4bee-abf2-f860ee64c020",
   "metadata": {},
   "source": [
    "i) Check if the string starts with a particular letter\n",
    "ii) Check if the string is numeric\n",
    "iii) Sort a list of tuples having fruit names and their quantity. [(\"mango\",99),(\"orange\",80), (\"grapes\", 1000)\n",
    "iv) Find the squares of numbers from 1 to 10\n",
    "v) Find the cube root of numbers from 1 to 10\n",
    "vi) Check if a given number is even\n",
    "vii) Filter odd numbers from the given list.\n",
    "     [1,2,3,4,5,6,7,8,9,10]\n",
    "viii) Sort a list of integers into positive and negative integers lists.\n",
    "    [1,2,3,4,5,6,-1,-2,-3,-4,-5,0]"
   ]
  },
  {
   "cell_type": "markdown",
   "id": "e58a8716-df51-4464-8b0d-88db4eacee8a",
   "metadata": {},
   "source": [
    "### A:"
   ]
  },
  {
   "cell_type": "code",
   "execution_count": 13,
   "id": "d708d5ea-9681-4ef2-8f25-6738eb7e76e3",
   "metadata": {},
   "outputs": [
    {
     "name": "stdout",
     "output_type": "stream",
     "text": [
      "True\n"
     ]
    }
   ],
   "source": [
    "## Check if the string starts with a particular letter\n",
    "starts_with = lambda x: True if x.startswith('P') else False\n",
    "print(starts_with('Python'))"
   ]
  },
  {
   "cell_type": "code",
   "execution_count": 2,
   "id": "ff0444c7-9578-4c7d-87d0-ac31f564816d",
   "metadata": {},
   "outputs": [
    {
     "name": "stdout",
     "output_type": "stream",
     "text": [
      "True\n",
      "True\n",
      "False\n",
      "False\n",
      "False\n"
     ]
    }
   ],
   "source": [
    "#Check if the string is numeric\n",
    "a = \"\\u0030\" #unicode for 0\n",
    "b = \"\\u00B2\" #unicode for &sup2;\n",
    "c = \"10km2\"\n",
    "d = \"-1\"\n",
    "e = \"1.5\"\n",
    "\n",
    "print(a.isnumeric())\n",
    "print(b.isnumeric())\n",
    "print(c.isnumeric())\n",
    "print(d.isnumeric())\n",
    "print(e.isnumeric())"
   ]
  },
  {
   "cell_type": "code",
   "execution_count": 3,
   "id": "672ebac7-478d-4b6e-afb3-0631c051f8a8",
   "metadata": {},
   "outputs": [
    {
     "name": "stdout",
     "output_type": "stream",
     "text": [
      "Original list of tuples:\n",
      "[('mango', 99), ('orange', 80), ('grapes', 1000)]\n",
      "\n",
      "Sorting the List of Tuples:\n",
      "[('orange', 80), ('mango', 99), ('grapes', 1000)]\n"
     ]
    }
   ],
   "source": [
    "#Sort a list of tuples having fruit names and their quantity. [(\"mango\",99),(\"orange\",80), (\"grapes\", 1000)\n",
    "l = [('mango', 99), ('orange', 80), ('grapes', 1000)]\n",
    "print(\"Original list of tuples:\")\n",
    "print(l)\n",
    "l.sort(key = lambda x: x[1])\n",
    "print(\"\\nSorting the List of Tuples:\")\n",
    "print(l)\n"
   ]
  },
  {
   "cell_type": "code",
   "execution_count": 4,
   "id": "066acb2d-a111-4184-bd58-9563a548c1e4",
   "metadata": {},
   "outputs": [
    {
     "data": {
      "text/plain": [
       "[1, 4, 9, 16, 25, 36, 49, 64, 81, 100]"
      ]
     },
     "execution_count": 4,
     "metadata": {},
     "output_type": "execute_result"
    }
   ],
   "source": [
    "#Find the squares of numbers from 1 to 10\n",
    "L1=[1,2,3,4,5,6,7,8,9,10]\n",
    "def sq(x):\n",
    "    return x**2\n",
    "list(map(sq,L1))"
   ]
  },
  {
   "cell_type": "code",
   "execution_count": 7,
   "id": "aa98d674-48f5-4e74-aa10-359eb30c7ceb",
   "metadata": {},
   "outputs": [
    {
     "data": {
      "text/plain": [
       "[1, 8, 27, 64, 125, 216, 343, 512, 729, 1000]"
      ]
     },
     "execution_count": 7,
     "metadata": {},
     "output_type": "execute_result"
    }
   ],
   "source": [
    "#Find the cube root of numbers from 1 to 10\n",
    "L2=[1,2,3,4,5,6,7,8,9,10]\n",
    "def cube_root(x):\n",
    "    return x**3\n",
    "list(map(cube_root,L2))"
   ]
  },
  {
   "cell_type": "code",
   "execution_count": 12,
   "id": "1739462a-38ee-4195-8f0b-fd845692da24",
   "metadata": {},
   "outputs": [
    {
     "data": {
      "text/plain": [
       "[2, 4, 6]"
      ]
     },
     "execution_count": 12,
     "metadata": {},
     "output_type": "execute_result"
    }
   ],
   "source": [
    "#Check if a given number is even\n",
    "L3=[1,2,3,4,5,6]\n",
    "list(filter(lambda x:x%2==0,L3))\n"
   ]
  },
  {
   "cell_type": "code",
   "execution_count": 13,
   "id": "46164034-4e32-4bf7-885b-742c97cf552e",
   "metadata": {},
   "outputs": [
    {
     "data": {
      "text/plain": [
       "[1, 3, 5, 7, 9]"
      ]
     },
     "execution_count": 13,
     "metadata": {},
     "output_type": "execute_result"
    }
   ],
   "source": [
    "#Filter odd numbers from the given list.\n",
    "l4= [1,2,3,4,5,6,7,8,9,10]\n",
    "list(filter(lambda x:x%2!=0,l4))"
   ]
  },
  {
   "cell_type": "code",
   "execution_count": 16,
   "id": "47d12159-2831-4bdf-babb-e63413d9b513",
   "metadata": {},
   "outputs": [
    {
     "name": "stdout",
     "output_type": "stream",
     "text": [
      "The original list is : [1, 2, 3, 4, 5, 6, -1, -2, -3, -4, -5, 0]\n",
      "Result after performing sort operation : [1, 2, 3, 4, 5, 6, 0, -5, -4, -3, -2, -1]\n"
     ]
    }
   ],
   "source": [
    "#Sort a list of integers into positive and negative integers lists.\n",
    "l5=[1,2,3,4,5,6,-1,-2,-3,-4,-5,0]\n",
    "print(\"The original list is : \" + str(l5))\n",
    "res = sorted(l5, key = lambda i: 0 if i == 0 else -1 / i)\n",
    "print(\"Result after performing sort operation : \" + str(res))\n"
   ]
  },
  {
   "cell_type": "code",
   "execution_count": null,
   "id": "cbb5335e-20e7-49e6-a479-de52bbc2c593",
   "metadata": {},
   "outputs": [],
   "source": []
  }
 ],
 "metadata": {
  "kernelspec": {
   "display_name": "Python 3 (ipykernel)",
   "language": "python",
   "name": "python3"
  },
  "language_info": {
   "codemirror_mode": {
    "name": "ipython",
    "version": 3
   },
   "file_extension": ".py",
   "mimetype": "text/x-python",
   "name": "python",
   "nbconvert_exporter": "python",
   "pygments_lexer": "ipython3",
   "version": "3.10.8"
  }
 },
 "nbformat": 4,
 "nbformat_minor": 5
}
