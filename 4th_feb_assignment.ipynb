{
 "cells": [
  {
   "cell_type": "markdown",
   "id": "6afa87b2-a9d4-47d7-97af-407e88150cf8",
   "metadata": {},
   "source": [
    "### Q1. Create a python program to sort the given list of tuples based on integer value using a lambda function.\n",
    "### [('Sachin Tendulkar', 34357), ('Ricky Ponting', 27483), ('Jack Kallis', 25534), ('Virat Kohli', 24936)]"
   ]
  },
  {
   "cell_type": "markdown",
   "id": "28ba9f38-a14d-4617-a377-90f7e23f10a3",
   "metadata": {},
   "source": [
    "### A:"
   ]
  },
  {
   "cell_type": "code",
   "execution_count": 3,
   "id": "80a6a062-3635-48be-acd7-070ea2397a2f",
   "metadata": {},
   "outputs": [
    {
     "name": "stdout",
     "output_type": "stream",
     "text": [
      "Original list of tuples:\n",
      "[('Sachin Tendulkar', 34357), ('Ricky Ponting', 27483), ('Jack Kalis', 25534), ('Virat Kohli', 24936)]\n",
      "\n",
      "Sorting the List of Tuples:\n",
      "[('Virat Kohli', 24936), ('Jack Kalis', 25534), ('Ricky Ponting', 27483), ('Sachin Tendulkar', 34357)]\n"
     ]
    }
   ],
   "source": [
    "l = [('Sachin Tendulkar', 34357), ('Ricky Ponting', 27483), ('Jack Kalis', 25534), ('Virat Kohli', 24936)]\n",
    "print(\"Original list of tuples:\")\n",
    "print(l)\n",
    "l.sort(key = lambda x: x[1])\n",
    "print(\"\\nSorting the List of Tuples:\")\n",
    "print(l)"
   ]
  },
  {
   "cell_type": "markdown",
   "id": "f10a5ebb-9322-4bd2-b735-7983e1e68ce0",
   "metadata": {},
   "source": [
    "### Q2. Write a Python Program to find the squares of all the numbers in the given list of integers using lambda and map functions."
   ]
  },
  {
   "cell_type": "markdown",
   "id": "3d302b95-019d-430c-83b5-c291275a16f4",
   "metadata": {},
   "source": [
    "### A:"
   ]
  },
  {
   "cell_type": "code",
   "execution_count": 8,
   "id": "b1362283-a45b-4fe4-bc40-fd5f329f46d8",
   "metadata": {},
   "outputs": [
    {
     "data": {
      "text/plain": [
       "[1, 4, 9, 16, 25, 36]"
      ]
     },
     "execution_count": 8,
     "metadata": {},
     "output_type": "execute_result"
    }
   ],
   "source": [
    "l1=[1,2,3,4,5,6]\n",
    "def sq(x):\n",
    "    return x**2\n",
    "list(map(lambda x:x**2, l1))"
   ]
  },
  {
   "cell_type": "markdown",
   "id": "7668506d-737d-497c-b48d-1977f8545ba2",
   "metadata": {},
   "source": [
    "### Q3. Write a python program to convert the given list of integers into a tuple of strings. Use map and lambda functions\n",
    "### Given String: [1, 2, 3, 4, 5, 6, 7, 8, 9, 10]\n",
    "### Expected output: ('1', '2', '3', '4', '5', '6', '7', '8', '9', '10')"
   ]
  },
  {
   "cell_type": "markdown",
   "id": "35ca2608-cf47-43c6-b3fa-d5300b38a5f0",
   "metadata": {},
   "source": [
    "### A:"
   ]
  },
  {
   "cell_type": "code",
   "execution_count": 15,
   "id": "58662593-a224-464b-93cc-e0a639d4cc52",
   "metadata": {},
   "outputs": [
    {
     "name": "stdout",
     "output_type": "stream",
     "text": [
      "\n",
      "List of strings:\n",
      "['1', '2', '3', '4', '5', '6', '7', '8', '9', '10']\n"
     ]
    }
   ],
   "source": [
    "s=[1,2,3,4,5,6,7,8,9,10]\n",
    "result_list = list(map(str,s))\n",
    "print(\"\\nList of strings:\")\n",
    "print(result_list)\n"
   ]
  },
  {
   "cell_type": "markdown",
   "id": "9e36360c-6d5a-4ab6-9e2b-f284469290e6",
   "metadata": {},
   "source": [
    "### Q4. Write a python program using reduce function to compute the product of a list containing numbers from 1 to 25."
   ]
  },
  {
   "cell_type": "code",
   "execution_count": 18,
   "id": "32e002b3-ad6a-4680-b2ed-0464d88bd988",
   "metadata": {},
   "outputs": [
    {
     "data": {
      "text/plain": [
       "15511210043330985984000000"
      ]
     },
     "execution_count": 18,
     "metadata": {},
     "output_type": "execute_result"
    }
   ],
   "source": [
    "from functools import reduce\n",
    "L2=[1,2,3,4,5,6,7,8,9,10,11,12,13,14,15,16,17,18,19,20,21,22,23,24,25]\n",
    "reduce(lambda x,y:x*y,L2)"
   ]
  },
  {
   "cell_type": "markdown",
   "id": "02134364-0e24-4bba-9a8c-11a8961d7726",
   "metadata": {},
   "source": [
    "### Q5. Write a python program to filter the numbers in a given list that are divisible by 2 and 3 using the filter function.\n",
    "### [2, 3, 6, 9, 27, 60, 90, 120, 55, 46]"
   ]
  },
  {
   "cell_type": "code",
   "execution_count": 23,
   "id": "d8c5eb80-ca41-4402-9c2f-fb0d55dcf159",
   "metadata": {},
   "outputs": [
    {
     "name": "stdout",
     "output_type": "stream",
     "text": [
      "Number divisible by 2 and 3\n",
      "[2, 3, 6, 9, 27, 60, 90, 120, 46]\n"
     ]
    }
   ],
   "source": [
    "L3=[2, 3, 6, 9, 27, 60, 90, 120, 55, 46]\n",
    "print(\"Number divisible by 2 and 3\")\n",
    "result = list(filter(lambda x: (x % 2 == 0 or x % 3 == 0), L3))\n",
    "print(result)\n"
   ]
  },
  {
   "cell_type": "markdown",
   "id": "c4979f81-ce9a-4740-b8c0-773170c8744f",
   "metadata": {},
   "source": [
    "### Q6. Write a python program to find palindromes in the given list of strings using lambda and filter function.\n",
    "### ['python', 'php', 'aba', 'radar', 'level']"
   ]
  },
  {
   "cell_type": "code",
   "execution_count": 24,
   "id": "7ed369b1-a32d-4d84-8d67-d97bc0584085",
   "metadata": {},
   "outputs": [
    {
     "name": "stdout",
     "output_type": "stream",
     "text": [
      "Orginal list of strings:\n",
      "['python', 'php', 'aba', 'radar', 'level']\n",
      "\n",
      "List of palindromes:\n",
      "['php', 'aba', 'radar', 'level']\n"
     ]
    }
   ],
   "source": [
    "texts = [\"python\", \"php\", \"aba\", \"radar\", \"level\"]\n",
    "print(\"Orginal list of strings:\")\n",
    "print(texts) \n",
    "result = list(filter(lambda x: (x == \"\".join(reversed(x))), texts)) \n",
    "print(\"\\nList of palindromes:\")\n",
    "print(result)"
   ]
  },
  {
   "cell_type": "code",
   "execution_count": null,
   "id": "8eae85fa-2f92-4666-9a8f-262594943a48",
   "metadata": {},
   "outputs": [],
   "source": []
  }
 ],
 "metadata": {
  "kernelspec": {
   "display_name": "Python 3 (ipykernel)",
   "language": "python",
   "name": "python3"
  },
  "language_info": {
   "codemirror_mode": {
    "name": "ipython",
    "version": 3
   },
   "file_extension": ".py",
   "mimetype": "text/x-python",
   "name": "python",
   "nbconvert_exporter": "python",
   "pygments_lexer": "ipython3",
   "version": "3.10.8"
  }
 },
 "nbformat": 4,
 "nbformat_minor": 5
}
